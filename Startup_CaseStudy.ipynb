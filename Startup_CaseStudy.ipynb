{
  "nbformat": 4,
  "nbformat_minor": 0,
  "metadata": {
    "colab": {
      "provenance": []
    },
    "kernelspec": {
      "name": "python3",
      "display_name": "Python 3"
    },
    "language_info": {
      "name": "python"
    }
  },
  "cells": [
    {
      "cell_type": "code",
      "execution_count": null,
      "metadata": {
        "id": "GRW5oVUiL8ZY"
      },
      "outputs": [],
      "source": [
        "import numpy as np\n",
        "import pandas as pd\n",
        "import matplotlib.pyplot as plt\n",
        "import seaborn as sns\n",
        "import re\n",
        "import unicodedata"
      ]
    },
    {
      "cell_type": "code",
      "source": [
        "df = pd.read_csv('/content/startup_funding (1).csv')"
      ],
      "metadata": {
        "id": "_QAzRZjsL_bD"
      },
      "execution_count": null,
      "outputs": []
    },
    {
      "cell_type": "code",
      "source": [
        "df.head()"
      ],
      "metadata": {
        "colab": {
          "base_uri": "https://localhost:8080/",
          "height": 337
        },
        "id": "FKYmhD6mMLEe",
        "outputId": "1844f936-62de-4cd7-bd65-78f883ccc7ae"
      },
      "execution_count": null,
      "outputs": [
        {
          "output_type": "execute_result",
          "data": {
            "text/plain": [
              "   Sr No Date dd/mm/yyyy                  Startup Name    Industry Vertical  \\\n",
              "0      1      09/01/2020                        BYJU’S               E-Tech   \n",
              "1      2      13/01/2020                        Shuttl       Transportation   \n",
              "2      3      09/01/2020                     Mamaearth           E-commerce   \n",
              "3      4      02/01/2020  https://www.wealthbucket.in/              FinTech   \n",
              "4      5      02/01/2020                        Fashor  Fashion and Apparel   \n",
              "\n",
              "                             SubVertical City  Location  \\\n",
              "0                             E-learning      Bengaluru   \n",
              "1              App based shuttle service        Gurgaon   \n",
              "2  Retailer of baby and toddler products      Bengaluru   \n",
              "3                      Online Investment      New Delhi   \n",
              "4            Embroiled Clothes For Women         Mumbai   \n",
              "\n",
              "              Investors Name       InvestmentnType Amount in USD Remarks  \n",
              "0    Tiger Global Management  Private Equity Round  20,00,00,000     NaN  \n",
              "1  Susquehanna Growth Equity              Series C     80,48,394     NaN  \n",
              "2      Sequoia Capital India              Series B   1,83,58,860     NaN  \n",
              "3             Vinod Khatumal          Pre-series A     30,00,000     NaN  \n",
              "4    Sprout Venture Partners            Seed Round     18,00,000     NaN  "
            ],
            "text/html": [
              "\n",
              "\n",
              "  <div id=\"df-c596bf77-16dc-4be1-8f1d-d610813e8399\">\n",
              "    <div class=\"colab-df-container\">\n",
              "      <div>\n",
              "<style scoped>\n",
              "    .dataframe tbody tr th:only-of-type {\n",
              "        vertical-align: middle;\n",
              "    }\n",
              "\n",
              "    .dataframe tbody tr th {\n",
              "        vertical-align: top;\n",
              "    }\n",
              "\n",
              "    .dataframe thead th {\n",
              "        text-align: right;\n",
              "    }\n",
              "</style>\n",
              "<table border=\"1\" class=\"dataframe\">\n",
              "  <thead>\n",
              "    <tr style=\"text-align: right;\">\n",
              "      <th></th>\n",
              "      <th>Sr No</th>\n",
              "      <th>Date dd/mm/yyyy</th>\n",
              "      <th>Startup Name</th>\n",
              "      <th>Industry Vertical</th>\n",
              "      <th>SubVertical</th>\n",
              "      <th>City  Location</th>\n",
              "      <th>Investors Name</th>\n",
              "      <th>InvestmentnType</th>\n",
              "      <th>Amount in USD</th>\n",
              "      <th>Remarks</th>\n",
              "    </tr>\n",
              "  </thead>\n",
              "  <tbody>\n",
              "    <tr>\n",
              "      <th>0</th>\n",
              "      <td>1</td>\n",
              "      <td>09/01/2020</td>\n",
              "      <td>BYJU’S</td>\n",
              "      <td>E-Tech</td>\n",
              "      <td>E-learning</td>\n",
              "      <td>Bengaluru</td>\n",
              "      <td>Tiger Global Management</td>\n",
              "      <td>Private Equity Round</td>\n",
              "      <td>20,00,00,000</td>\n",
              "      <td>NaN</td>\n",
              "    </tr>\n",
              "    <tr>\n",
              "      <th>1</th>\n",
              "      <td>2</td>\n",
              "      <td>13/01/2020</td>\n",
              "      <td>Shuttl</td>\n",
              "      <td>Transportation</td>\n",
              "      <td>App based shuttle service</td>\n",
              "      <td>Gurgaon</td>\n",
              "      <td>Susquehanna Growth Equity</td>\n",
              "      <td>Series C</td>\n",
              "      <td>80,48,394</td>\n",
              "      <td>NaN</td>\n",
              "    </tr>\n",
              "    <tr>\n",
              "      <th>2</th>\n",
              "      <td>3</td>\n",
              "      <td>09/01/2020</td>\n",
              "      <td>Mamaearth</td>\n",
              "      <td>E-commerce</td>\n",
              "      <td>Retailer of baby and toddler products</td>\n",
              "      <td>Bengaluru</td>\n",
              "      <td>Sequoia Capital India</td>\n",
              "      <td>Series B</td>\n",
              "      <td>1,83,58,860</td>\n",
              "      <td>NaN</td>\n",
              "    </tr>\n",
              "    <tr>\n",
              "      <th>3</th>\n",
              "      <td>4</td>\n",
              "      <td>02/01/2020</td>\n",
              "      <td>https://www.wealthbucket.in/</td>\n",
              "      <td>FinTech</td>\n",
              "      <td>Online Investment</td>\n",
              "      <td>New Delhi</td>\n",
              "      <td>Vinod Khatumal</td>\n",
              "      <td>Pre-series A</td>\n",
              "      <td>30,00,000</td>\n",
              "      <td>NaN</td>\n",
              "    </tr>\n",
              "    <tr>\n",
              "      <th>4</th>\n",
              "      <td>5</td>\n",
              "      <td>02/01/2020</td>\n",
              "      <td>Fashor</td>\n",
              "      <td>Fashion and Apparel</td>\n",
              "      <td>Embroiled Clothes For Women</td>\n",
              "      <td>Mumbai</td>\n",
              "      <td>Sprout Venture Partners</td>\n",
              "      <td>Seed Round</td>\n",
              "      <td>18,00,000</td>\n",
              "      <td>NaN</td>\n",
              "    </tr>\n",
              "  </tbody>\n",
              "</table>\n",
              "</div>\n",
              "      <button class=\"colab-df-convert\" onclick=\"convertToInteractive('df-c596bf77-16dc-4be1-8f1d-d610813e8399')\"\n",
              "              title=\"Convert this dataframe to an interactive table.\"\n",
              "              style=\"display:none;\">\n",
              "\n",
              "  <svg xmlns=\"http://www.w3.org/2000/svg\" height=\"24px\"viewBox=\"0 0 24 24\"\n",
              "       width=\"24px\">\n",
              "    <path d=\"M0 0h24v24H0V0z\" fill=\"none\"/>\n",
              "    <path d=\"M18.56 5.44l.94 2.06.94-2.06 2.06-.94-2.06-.94-.94-2.06-.94 2.06-2.06.94zm-11 1L8.5 8.5l.94-2.06 2.06-.94-2.06-.94L8.5 2.5l-.94 2.06-2.06.94zm10 10l.94 2.06.94-2.06 2.06-.94-2.06-.94-.94-2.06-.94 2.06-2.06.94z\"/><path d=\"M17.41 7.96l-1.37-1.37c-.4-.4-.92-.59-1.43-.59-.52 0-1.04.2-1.43.59L10.3 9.45l-7.72 7.72c-.78.78-.78 2.05 0 2.83L4 21.41c.39.39.9.59 1.41.59.51 0 1.02-.2 1.41-.59l7.78-7.78 2.81-2.81c.8-.78.8-2.07 0-2.86zM5.41 20L4 18.59l7.72-7.72 1.47 1.35L5.41 20z\"/>\n",
              "  </svg>\n",
              "      </button>\n",
              "\n",
              "\n",
              "\n",
              "    <div id=\"df-5571c8a6-3550-421f-ab96-d27775be9efe\">\n",
              "      <button class=\"colab-df-quickchart\" onclick=\"quickchart('df-5571c8a6-3550-421f-ab96-d27775be9efe')\"\n",
              "              title=\"Suggest charts.\"\n",
              "              style=\"display:none;\">\n",
              "\n",
              "<svg xmlns=\"http://www.w3.org/2000/svg\" height=\"24px\"viewBox=\"0 0 24 24\"\n",
              "     width=\"24px\">\n",
              "    <g>\n",
              "        <path d=\"M19 3H5c-1.1 0-2 .9-2 2v14c0 1.1.9 2 2 2h14c1.1 0 2-.9 2-2V5c0-1.1-.9-2-2-2zM9 17H7v-7h2v7zm4 0h-2V7h2v10zm4 0h-2v-4h2v4z\"/>\n",
              "    </g>\n",
              "</svg>\n",
              "      </button>\n",
              "    </div>\n",
              "\n",
              "<style>\n",
              "  .colab-df-quickchart {\n",
              "    background-color: #E8F0FE;\n",
              "    border: none;\n",
              "    border-radius: 50%;\n",
              "    cursor: pointer;\n",
              "    display: none;\n",
              "    fill: #1967D2;\n",
              "    height: 32px;\n",
              "    padding: 0 0 0 0;\n",
              "    width: 32px;\n",
              "  }\n",
              "\n",
              "  .colab-df-quickchart:hover {\n",
              "    background-color: #E2EBFA;\n",
              "    box-shadow: 0px 1px 2px rgba(60, 64, 67, 0.3), 0px 1px 3px 1px rgba(60, 64, 67, 0.15);\n",
              "    fill: #174EA6;\n",
              "  }\n",
              "\n",
              "  [theme=dark] .colab-df-quickchart {\n",
              "    background-color: #3B4455;\n",
              "    fill: #D2E3FC;\n",
              "  }\n",
              "\n",
              "  [theme=dark] .colab-df-quickchart:hover {\n",
              "    background-color: #434B5C;\n",
              "    box-shadow: 0px 1px 3px 1px rgba(0, 0, 0, 0.15);\n",
              "    filter: drop-shadow(0px 1px 2px rgba(0, 0, 0, 0.3));\n",
              "    fill: #FFFFFF;\n",
              "  }\n",
              "</style>\n",
              "\n",
              "    <script>\n",
              "      async function quickchart(key) {\n",
              "        const containerElement = document.querySelector('#' + key);\n",
              "        const charts = await google.colab.kernel.invokeFunction(\n",
              "            'suggestCharts', [key], {});\n",
              "      }\n",
              "    </script>\n",
              "\n",
              "\n",
              "      <script>\n",
              "\n",
              "function displayQuickchartButton(domScope) {\n",
              "  let quickchartButtonEl =\n",
              "    domScope.querySelector('#df-5571c8a6-3550-421f-ab96-d27775be9efe button.colab-df-quickchart');\n",
              "  quickchartButtonEl.style.display =\n",
              "    google.colab.kernel.accessAllowed ? 'block' : 'none';\n",
              "}\n",
              "\n",
              "        displayQuickchartButton(document);\n",
              "      </script>\n",
              "      <style>\n",
              "    .colab-df-container {\n",
              "      display:flex;\n",
              "      flex-wrap:wrap;\n",
              "      gap: 12px;\n",
              "    }\n",
              "\n",
              "    .colab-df-convert {\n",
              "      background-color: #E8F0FE;\n",
              "      border: none;\n",
              "      border-radius: 50%;\n",
              "      cursor: pointer;\n",
              "      display: none;\n",
              "      fill: #1967D2;\n",
              "      height: 32px;\n",
              "      padding: 0 0 0 0;\n",
              "      width: 32px;\n",
              "    }\n",
              "\n",
              "    .colab-df-convert:hover {\n",
              "      background-color: #E2EBFA;\n",
              "      box-shadow: 0px 1px 2px rgba(60, 64, 67, 0.3), 0px 1px 3px 1px rgba(60, 64, 67, 0.15);\n",
              "      fill: #174EA6;\n",
              "    }\n",
              "\n",
              "    [theme=dark] .colab-df-convert {\n",
              "      background-color: #3B4455;\n",
              "      fill: #D2E3FC;\n",
              "    }\n",
              "\n",
              "    [theme=dark] .colab-df-convert:hover {\n",
              "      background-color: #434B5C;\n",
              "      box-shadow: 0px 1px 3px 1px rgba(0, 0, 0, 0.15);\n",
              "      filter: drop-shadow(0px 1px 2px rgba(0, 0, 0, 0.3));\n",
              "      fill: #FFFFFF;\n",
              "    }\n",
              "  </style>\n",
              "\n",
              "      <script>\n",
              "        const buttonEl =\n",
              "          document.querySelector('#df-c596bf77-16dc-4be1-8f1d-d610813e8399 button.colab-df-convert');\n",
              "        buttonEl.style.display =\n",
              "          google.colab.kernel.accessAllowed ? 'block' : 'none';\n",
              "\n",
              "        async function convertToInteractive(key) {\n",
              "          const element = document.querySelector('#df-c596bf77-16dc-4be1-8f1d-d610813e8399');\n",
              "          const dataTable =\n",
              "            await google.colab.kernel.invokeFunction('convertToInteractive',\n",
              "                                                     [key], {});\n",
              "          if (!dataTable) return;\n",
              "\n",
              "          const docLinkHtml = 'Like what you see? Visit the ' +\n",
              "            '<a target=\"_blank\" href=https://colab.research.google.com/notebooks/data_table.ipynb>data table notebook</a>'\n",
              "            + ' to learn more about interactive tables.';\n",
              "          element.innerHTML = '';\n",
              "          dataTable['output_type'] = 'display_data';\n",
              "          await google.colab.output.renderOutput(dataTable, element);\n",
              "          const docLink = document.createElement('div');\n",
              "          docLink.innerHTML = docLinkHtml;\n",
              "          element.appendChild(docLink);\n",
              "        }\n",
              "      </script>\n",
              "    </div>\n",
              "  </div>\n"
            ]
          },
          "metadata": {},
          "execution_count": 3
        }
      ]
    },
    {
      "cell_type": "code",
      "source": [
        "df.drop(['Remarks'], axis=1,inplace=True)"
      ],
      "metadata": {
        "id": "lXe9eqD3MNyd"
      },
      "execution_count": null,
      "outputs": []
    },
    {
      "cell_type": "code",
      "source": [
        "def extract_name(url_or_name):\n",
        "    if url_or_name.startswith('https://www.'):\n",
        "        return url_or_name.split('.')[1].capitalize()\n",
        "    return url_or_name\n",
        "\n",
        "df['Startup Name'] = df['Startup Name'].apply(extract_name)"
      ],
      "metadata": {
        "id": "8mHfWpddMV7I"
      },
      "execution_count": null,
      "outputs": []
    },
    {
      "cell_type": "code",
      "source": [
        "df['Startup Name'] = df['Startup Name'].str.replace(r'\\.in$', '', regex=True).str.capitalize()"
      ],
      "metadata": {
        "id": "IEi3vFw9Mc0-"
      },
      "execution_count": null,
      "outputs": []
    },
    {
      "cell_type": "code",
      "source": [
        "df['Startup Name'] = df['Startup Name'].str.replace(r'\\.com$', '', regex=True).str.capitalize()"
      ],
      "metadata": {
        "id": "063fijocMptT"
      },
      "execution_count": null,
      "outputs": []
    },
    {
      "cell_type": "code",
      "source": [
        "df['Startup Name'] = df['Startup Name'].str.replace(r'\\.ai$', '', regex=True).str.capitalize()"
      ],
      "metadata": {
        "id": "b7f-KBXSMrk8"
      },
      "execution_count": null,
      "outputs": []
    },
    {
      "cell_type": "code",
      "source": [
        "df['Startup Name'] = df['Startup Name'].str.replace(r'\\.me$', '', regex=True).str.capitalize()"
      ],
      "metadata": {
        "id": "wGRxK1jRMtbW"
      },
      "execution_count": null,
      "outputs": []
    },
    {
      "cell_type": "code",
      "source": [
        "df['Startup Name'] = df['Startup Name'].str.replace(r'\\.io$', '', regex=True).str.capitalize()"
      ],
      "metadata": {
        "id": "aOmBH1jXMvsD"
      },
      "execution_count": null,
      "outputs": []
    },
    {
      "cell_type": "code",
      "source": [
        "df['Startup Name'] = df['Startup Name'].str.replace(r'\\.IO$', '', regex=True).str.capitalize()"
      ],
      "metadata": {
        "id": "owevdCEZMwfm"
      },
      "execution_count": null,
      "outputs": []
    },
    {
      "cell_type": "code",
      "source": [
        "df = df.applymap(lambda x: str(x).replace(r'\\\\xc2\\\\xa0', ''))"
      ],
      "metadata": {
        "id": "MKvLw5-yM4EO"
      },
      "execution_count": null,
      "outputs": []
    },
    {
      "cell_type": "code",
      "source": [
        "df = df.applymap(lambda x: str(x).replace(r'\\\\xe2\\\\x80\\\\x99s', ''))"
      ],
      "metadata": {
        "id": "KIrBUiosQGsV"
      },
      "execution_count": null,
      "outputs": []
    },
    {
      "cell_type": "code",
      "source": [
        "df = df.applymap(lambda x: str(x).replace(r'\\\\n', ''))"
      ],
      "metadata": {
        "id": "kABScuDFQJKC"
      },
      "execution_count": null,
      "outputs": []
    },
    {
      "cell_type": "code",
      "source": [
        "df['year'] =pd.to_datetime(df['Date dd/mm/yyyy'], errors='coerce').dt.year"
      ],
      "metadata": {
        "colab": {
          "base_uri": "https://localhost:8080/"
        },
        "id": "u-v77P2uQN97",
        "outputId": "a491df1e-668f-4bc5-95a6-1b75cfa3843b"
      },
      "execution_count": null,
      "outputs": [
        {
          "output_type": "stream",
          "name": "stderr",
          "text": [
            "<ipython-input-15-18a77083e01b>:1: UserWarning: Parsing dates in DD/MM/YYYY format when dayfirst=False (the default) was specified. This may lead to inconsistently parsed dates! Specify a format to ensure consistent parsing.\n",
            "  df['year'] =pd.to_datetime(df['Date dd/mm/yyyy'], errors='coerce').dt.year\n"
          ]
        }
      ]
    },
    {
      "cell_type": "code",
      "source": [
        "df = df[~df['Amount in USD'].isin(['Undisclosed', 'Unknown', 'undisclosed', 'unknown', 'N/A'])]"
      ],
      "metadata": {
        "id": "mShQTHrdQX1w"
      },
      "execution_count": null,
      "outputs": []
    },
    {
      "cell_type": "code",
      "source": [
        "df['Amount in USD'] = df['Amount in USD'].str.replace('+', '')"
      ],
      "metadata": {
        "colab": {
          "base_uri": "https://localhost:8080/"
        },
        "id": "HWIhEbboTaHp",
        "outputId": "d834fa56-ea7b-4252-d591-b9870da1d4d5"
      },
      "execution_count": null,
      "outputs": [
        {
          "output_type": "stream",
          "name": "stderr",
          "text": [
            "<ipython-input-17-24aed990cad2>:1: FutureWarning: The default value of regex will change from True to False in a future version. In addition, single character regular expressions will *not* be treated as literal strings when regex=True.\n",
            "  df['Amount in USD'] = df['Amount in USD'].str.replace('+', '')\n",
            "<ipython-input-17-24aed990cad2>:1: SettingWithCopyWarning: \n",
            "A value is trying to be set on a copy of a slice from a DataFrame.\n",
            "Try using .loc[row_indexer,col_indexer] = value instead\n",
            "\n",
            "See the caveats in the documentation: https://pandas.pydata.org/pandas-docs/stable/user_guide/indexing.html#returning-a-view-versus-a-copy\n",
            "  df['Amount in USD'] = df['Amount in USD'].str.replace('+', '')\n"
          ]
        }
      ]
    },
    {
      "cell_type": "code",
      "source": [
        "df['Amount in USD'] = df['Amount in USD'].str.replace(',', '')"
      ],
      "metadata": {
        "id": "xM9FtkmCQack",
        "colab": {
          "base_uri": "https://localhost:8080/"
        },
        "outputId": "255e467a-8502-4c74-cedc-ffbcc7a61354"
      },
      "execution_count": null,
      "outputs": [
        {
          "output_type": "stream",
          "name": "stderr",
          "text": [
            "<ipython-input-18-98ed2e2a3d51>:1: SettingWithCopyWarning: \n",
            "A value is trying to be set on a copy of a slice from a DataFrame.\n",
            "Try using .loc[row_indexer,col_indexer] = value instead\n",
            "\n",
            "See the caveats in the documentation: https://pandas.pydata.org/pandas-docs/stable/user_guide/indexing.html#returning-a-view-versus-a-copy\n",
            "  df['Amount in USD'] = df['Amount in USD'].str.replace(',', '')\n"
          ]
        }
      ]
    },
    {
      "cell_type": "code",
      "source": [
        "df['Date dd/mm/yyyy'].replace(\"05/072018\", \"05/07/2018\", inplace=True)"
      ],
      "metadata": {
        "id": "Ix4g5-GeQdg5",
        "colab": {
          "base_uri": "https://localhost:8080/"
        },
        "outputId": "00395a9e-bdad-4a62-dc6d-8ebddb0c4d53"
      },
      "execution_count": null,
      "outputs": [
        {
          "output_type": "stream",
          "name": "stderr",
          "text": [
            "<ipython-input-19-a7c1abecc512>:1: SettingWithCopyWarning: \n",
            "A value is trying to be set on a copy of a slice from a DataFrame\n",
            "\n",
            "See the caveats in the documentation: https://pandas.pydata.org/pandas-docs/stable/user_guide/indexing.html#returning-a-view-versus-a-copy\n",
            "  df['Date dd/mm/yyyy'].replace(\"05/072018\", \"05/07/2018\", inplace=True)\n"
          ]
        }
      ]
    },
    {
      "cell_type": "code",
      "source": [
        "df.head()"
      ],
      "metadata": {
        "colab": {
          "base_uri": "https://localhost:8080/",
          "height": 337
        },
        "id": "jwBomczcQou6",
        "outputId": "94b32f62-8eba-4c25-e3bb-610910a5ed5d"
      },
      "execution_count": null,
      "outputs": [
        {
          "output_type": "execute_result",
          "data": {
            "text/plain": [
              "  Sr No Date dd/mm/yyyy  Startup Name    Industry Vertical  \\\n",
              "0     1      09/01/2020        Byju’s               E-Tech   \n",
              "1     2      13/01/2020        Shuttl       Transportation   \n",
              "2     3      09/01/2020     Mamaearth           E-commerce   \n",
              "3     4      02/01/2020  Wealthbucket              FinTech   \n",
              "4     5      02/01/2020        Fashor  Fashion and Apparel   \n",
              "\n",
              "                             SubVertical City  Location  \\\n",
              "0                             E-learning      Bengaluru   \n",
              "1              App based shuttle service        Gurgaon   \n",
              "2  Retailer of baby and toddler products      Bengaluru   \n",
              "3                      Online Investment      New Delhi   \n",
              "4            Embroiled Clothes For Women         Mumbai   \n",
              "\n",
              "              Investors Name       InvestmentnType Amount in USD    year  \n",
              "0    Tiger Global Management  Private Equity Round     200000000  2020.0  \n",
              "1  Susquehanna Growth Equity              Series C       8048394  2020.0  \n",
              "2      Sequoia Capital India              Series B      18358860  2020.0  \n",
              "3             Vinod Khatumal          Pre-series A       3000000  2020.0  \n",
              "4    Sprout Venture Partners            Seed Round       1800000  2020.0  "
            ],
            "text/html": [
              "\n",
              "\n",
              "  <div id=\"df-d5721d37-bd7b-436b-a191-a084cd7f444f\">\n",
              "    <div class=\"colab-df-container\">\n",
              "      <div>\n",
              "<style scoped>\n",
              "    .dataframe tbody tr th:only-of-type {\n",
              "        vertical-align: middle;\n",
              "    }\n",
              "\n",
              "    .dataframe tbody tr th {\n",
              "        vertical-align: top;\n",
              "    }\n",
              "\n",
              "    .dataframe thead th {\n",
              "        text-align: right;\n",
              "    }\n",
              "</style>\n",
              "<table border=\"1\" class=\"dataframe\">\n",
              "  <thead>\n",
              "    <tr style=\"text-align: right;\">\n",
              "      <th></th>\n",
              "      <th>Sr No</th>\n",
              "      <th>Date dd/mm/yyyy</th>\n",
              "      <th>Startup Name</th>\n",
              "      <th>Industry Vertical</th>\n",
              "      <th>SubVertical</th>\n",
              "      <th>City  Location</th>\n",
              "      <th>Investors Name</th>\n",
              "      <th>InvestmentnType</th>\n",
              "      <th>Amount in USD</th>\n",
              "      <th>year</th>\n",
              "    </tr>\n",
              "  </thead>\n",
              "  <tbody>\n",
              "    <tr>\n",
              "      <th>0</th>\n",
              "      <td>1</td>\n",
              "      <td>09/01/2020</td>\n",
              "      <td>Byju’s</td>\n",
              "      <td>E-Tech</td>\n",
              "      <td>E-learning</td>\n",
              "      <td>Bengaluru</td>\n",
              "      <td>Tiger Global Management</td>\n",
              "      <td>Private Equity Round</td>\n",
              "      <td>200000000</td>\n",
              "      <td>2020.0</td>\n",
              "    </tr>\n",
              "    <tr>\n",
              "      <th>1</th>\n",
              "      <td>2</td>\n",
              "      <td>13/01/2020</td>\n",
              "      <td>Shuttl</td>\n",
              "      <td>Transportation</td>\n",
              "      <td>App based shuttle service</td>\n",
              "      <td>Gurgaon</td>\n",
              "      <td>Susquehanna Growth Equity</td>\n",
              "      <td>Series C</td>\n",
              "      <td>8048394</td>\n",
              "      <td>2020.0</td>\n",
              "    </tr>\n",
              "    <tr>\n",
              "      <th>2</th>\n",
              "      <td>3</td>\n",
              "      <td>09/01/2020</td>\n",
              "      <td>Mamaearth</td>\n",
              "      <td>E-commerce</td>\n",
              "      <td>Retailer of baby and toddler products</td>\n",
              "      <td>Bengaluru</td>\n",
              "      <td>Sequoia Capital India</td>\n",
              "      <td>Series B</td>\n",
              "      <td>18358860</td>\n",
              "      <td>2020.0</td>\n",
              "    </tr>\n",
              "    <tr>\n",
              "      <th>3</th>\n",
              "      <td>4</td>\n",
              "      <td>02/01/2020</td>\n",
              "      <td>Wealthbucket</td>\n",
              "      <td>FinTech</td>\n",
              "      <td>Online Investment</td>\n",
              "      <td>New Delhi</td>\n",
              "      <td>Vinod Khatumal</td>\n",
              "      <td>Pre-series A</td>\n",
              "      <td>3000000</td>\n",
              "      <td>2020.0</td>\n",
              "    </tr>\n",
              "    <tr>\n",
              "      <th>4</th>\n",
              "      <td>5</td>\n",
              "      <td>02/01/2020</td>\n",
              "      <td>Fashor</td>\n",
              "      <td>Fashion and Apparel</td>\n",
              "      <td>Embroiled Clothes For Women</td>\n",
              "      <td>Mumbai</td>\n",
              "      <td>Sprout Venture Partners</td>\n",
              "      <td>Seed Round</td>\n",
              "      <td>1800000</td>\n",
              "      <td>2020.0</td>\n",
              "    </tr>\n",
              "  </tbody>\n",
              "</table>\n",
              "</div>\n",
              "      <button class=\"colab-df-convert\" onclick=\"convertToInteractive('df-d5721d37-bd7b-436b-a191-a084cd7f444f')\"\n",
              "              title=\"Convert this dataframe to an interactive table.\"\n",
              "              style=\"display:none;\">\n",
              "\n",
              "  <svg xmlns=\"http://www.w3.org/2000/svg\" height=\"24px\"viewBox=\"0 0 24 24\"\n",
              "       width=\"24px\">\n",
              "    <path d=\"M0 0h24v24H0V0z\" fill=\"none\"/>\n",
              "    <path d=\"M18.56 5.44l.94 2.06.94-2.06 2.06-.94-2.06-.94-.94-2.06-.94 2.06-2.06.94zm-11 1L8.5 8.5l.94-2.06 2.06-.94-2.06-.94L8.5 2.5l-.94 2.06-2.06.94zm10 10l.94 2.06.94-2.06 2.06-.94-2.06-.94-.94-2.06-.94 2.06-2.06.94z\"/><path d=\"M17.41 7.96l-1.37-1.37c-.4-.4-.92-.59-1.43-.59-.52 0-1.04.2-1.43.59L10.3 9.45l-7.72 7.72c-.78.78-.78 2.05 0 2.83L4 21.41c.39.39.9.59 1.41.59.51 0 1.02-.2 1.41-.59l7.78-7.78 2.81-2.81c.8-.78.8-2.07 0-2.86zM5.41 20L4 18.59l7.72-7.72 1.47 1.35L5.41 20z\"/>\n",
              "  </svg>\n",
              "      </button>\n",
              "\n",
              "\n",
              "\n",
              "    <div id=\"df-fe8e1eb9-c040-4c6b-bc41-eb73253d392e\">\n",
              "      <button class=\"colab-df-quickchart\" onclick=\"quickchart('df-fe8e1eb9-c040-4c6b-bc41-eb73253d392e')\"\n",
              "              title=\"Suggest charts.\"\n",
              "              style=\"display:none;\">\n",
              "\n",
              "<svg xmlns=\"http://www.w3.org/2000/svg\" height=\"24px\"viewBox=\"0 0 24 24\"\n",
              "     width=\"24px\">\n",
              "    <g>\n",
              "        <path d=\"M19 3H5c-1.1 0-2 .9-2 2v14c0 1.1.9 2 2 2h14c1.1 0 2-.9 2-2V5c0-1.1-.9-2-2-2zM9 17H7v-7h2v7zm4 0h-2V7h2v10zm4 0h-2v-4h2v4z\"/>\n",
              "    </g>\n",
              "</svg>\n",
              "      </button>\n",
              "    </div>\n",
              "\n",
              "<style>\n",
              "  .colab-df-quickchart {\n",
              "    background-color: #E8F0FE;\n",
              "    border: none;\n",
              "    border-radius: 50%;\n",
              "    cursor: pointer;\n",
              "    display: none;\n",
              "    fill: #1967D2;\n",
              "    height: 32px;\n",
              "    padding: 0 0 0 0;\n",
              "    width: 32px;\n",
              "  }\n",
              "\n",
              "  .colab-df-quickchart:hover {\n",
              "    background-color: #E2EBFA;\n",
              "    box-shadow: 0px 1px 2px rgba(60, 64, 67, 0.3), 0px 1px 3px 1px rgba(60, 64, 67, 0.15);\n",
              "    fill: #174EA6;\n",
              "  }\n",
              "\n",
              "  [theme=dark] .colab-df-quickchart {\n",
              "    background-color: #3B4455;\n",
              "    fill: #D2E3FC;\n",
              "  }\n",
              "\n",
              "  [theme=dark] .colab-df-quickchart:hover {\n",
              "    background-color: #434B5C;\n",
              "    box-shadow: 0px 1px 3px 1px rgba(0, 0, 0, 0.15);\n",
              "    filter: drop-shadow(0px 1px 2px rgba(0, 0, 0, 0.3));\n",
              "    fill: #FFFFFF;\n",
              "  }\n",
              "</style>\n",
              "\n",
              "    <script>\n",
              "      async function quickchart(key) {\n",
              "        const containerElement = document.querySelector('#' + key);\n",
              "        const charts = await google.colab.kernel.invokeFunction(\n",
              "            'suggestCharts', [key], {});\n",
              "      }\n",
              "    </script>\n",
              "\n",
              "\n",
              "      <script>\n",
              "\n",
              "function displayQuickchartButton(domScope) {\n",
              "  let quickchartButtonEl =\n",
              "    domScope.querySelector('#df-fe8e1eb9-c040-4c6b-bc41-eb73253d392e button.colab-df-quickchart');\n",
              "  quickchartButtonEl.style.display =\n",
              "    google.colab.kernel.accessAllowed ? 'block' : 'none';\n",
              "}\n",
              "\n",
              "        displayQuickchartButton(document);\n",
              "      </script>\n",
              "      <style>\n",
              "    .colab-df-container {\n",
              "      display:flex;\n",
              "      flex-wrap:wrap;\n",
              "      gap: 12px;\n",
              "    }\n",
              "\n",
              "    .colab-df-convert {\n",
              "      background-color: #E8F0FE;\n",
              "      border: none;\n",
              "      border-radius: 50%;\n",
              "      cursor: pointer;\n",
              "      display: none;\n",
              "      fill: #1967D2;\n",
              "      height: 32px;\n",
              "      padding: 0 0 0 0;\n",
              "      width: 32px;\n",
              "    }\n",
              "\n",
              "    .colab-df-convert:hover {\n",
              "      background-color: #E2EBFA;\n",
              "      box-shadow: 0px 1px 2px rgba(60, 64, 67, 0.3), 0px 1px 3px 1px rgba(60, 64, 67, 0.15);\n",
              "      fill: #174EA6;\n",
              "    }\n",
              "\n",
              "    [theme=dark] .colab-df-convert {\n",
              "      background-color: #3B4455;\n",
              "      fill: #D2E3FC;\n",
              "    }\n",
              "\n",
              "    [theme=dark] .colab-df-convert:hover {\n",
              "      background-color: #434B5C;\n",
              "      box-shadow: 0px 1px 3px 1px rgba(0, 0, 0, 0.15);\n",
              "      filter: drop-shadow(0px 1px 2px rgba(0, 0, 0, 0.3));\n",
              "      fill: #FFFFFF;\n",
              "    }\n",
              "  </style>\n",
              "\n",
              "      <script>\n",
              "        const buttonEl =\n",
              "          document.querySelector('#df-d5721d37-bd7b-436b-a191-a084cd7f444f button.colab-df-convert');\n",
              "        buttonEl.style.display =\n",
              "          google.colab.kernel.accessAllowed ? 'block' : 'none';\n",
              "\n",
              "        async function convertToInteractive(key) {\n",
              "          const element = document.querySelector('#df-d5721d37-bd7b-436b-a191-a084cd7f444f');\n",
              "          const dataTable =\n",
              "            await google.colab.kernel.invokeFunction('convertToInteractive',\n",
              "                                                     [key], {});\n",
              "          if (!dataTable) return;\n",
              "\n",
              "          const docLinkHtml = 'Like what you see? Visit the ' +\n",
              "            '<a target=\"_blank\" href=https://colab.research.google.com/notebooks/data_table.ipynb>data table notebook</a>'\n",
              "            + ' to learn more about interactive tables.';\n",
              "          element.innerHTML = '';\n",
              "          dataTable['output_type'] = 'display_data';\n",
              "          await google.colab.output.renderOutput(dataTable, element);\n",
              "          const docLink = document.createElement('div');\n",
              "          docLink.innerHTML = docLinkHtml;\n",
              "          element.appendChild(docLink);\n",
              "        }\n",
              "      </script>\n",
              "    </div>\n",
              "  </div>\n"
            ]
          },
          "metadata": {},
          "execution_count": 20
        }
      ]
    },
    {
      "cell_type": "code",
      "source": [
        "df.info()"
      ],
      "metadata": {
        "colab": {
          "base_uri": "https://localhost:8080/"
        },
        "id": "SpseEYwFQqmQ",
        "outputId": "9d4a823f-6b53-4966-eb77-9fd19045ab34"
      },
      "execution_count": null,
      "outputs": [
        {
          "output_type": "stream",
          "name": "stdout",
          "text": [
            "<class 'pandas.core.frame.DataFrame'>\n",
            "Int64Index: 3033 entries, 0 to 3043\n",
            "Data columns (total 10 columns):\n",
            " #   Column             Non-Null Count  Dtype  \n",
            "---  ------             --------------  -----  \n",
            " 0   Sr No              3033 non-null   object \n",
            " 1   Date dd/mm/yyyy    3033 non-null   object \n",
            " 2   Startup Name       3033 non-null   object \n",
            " 3   Industry Vertical  3033 non-null   object \n",
            " 4   SubVertical        3033 non-null   object \n",
            " 5   City  Location     3033 non-null   object \n",
            " 6   Investors Name     3033 non-null   object \n",
            " 7   InvestmentnType    3033 non-null   object \n",
            " 8   Amount in USD      3033 non-null   object \n",
            " 9   year               3030 non-null   float64\n",
            "dtypes: float64(1), object(9)\n",
            "memory usage: 260.6+ KB\n"
          ]
        }
      ]
    },
    {
      "cell_type": "code",
      "source": [
        "df['Date dd/mm/yyyy'] = pd.to_datetime(df['Date dd/mm/yyyy'], errors='coerce')"
      ],
      "metadata": {
        "colab": {
          "base_uri": "https://localhost:8080/"
        },
        "id": "uzygR5owQsfN",
        "outputId": "2e039dd0-1b7e-4b93-9de3-5a1deca0b893"
      },
      "execution_count": null,
      "outputs": [
        {
          "output_type": "stream",
          "name": "stderr",
          "text": [
            "<ipython-input-22-521e6ac4ee59>:1: UserWarning: Parsing dates in DD/MM/YYYY format when dayfirst=False (the default) was specified. This may lead to inconsistently parsed dates! Specify a format to ensure consistent parsing.\n",
            "  df['Date dd/mm/yyyy'] = pd.to_datetime(df['Date dd/mm/yyyy'], errors='coerce')\n",
            "<ipython-input-22-521e6ac4ee59>:1: SettingWithCopyWarning: \n",
            "A value is trying to be set on a copy of a slice from a DataFrame.\n",
            "Try using .loc[row_indexer,col_indexer] = value instead\n",
            "\n",
            "See the caveats in the documentation: https://pandas.pydata.org/pandas-docs/stable/user_guide/indexing.html#returning-a-view-versus-a-copy\n",
            "  df['Date dd/mm/yyyy'] = pd.to_datetime(df['Date dd/mm/yyyy'], errors='coerce')\n"
          ]
        }
      ]
    },
    {
      "cell_type": "code",
      "source": [
        "df.dropna(subset=['Amount in USD'], inplace=True)"
      ],
      "metadata": {
        "id": "AAfGyCG-QytO",
        "colab": {
          "base_uri": "https://localhost:8080/"
        },
        "outputId": "e48213f2-cf60-4604-d3ac-a69fc5f27794"
      },
      "execution_count": null,
      "outputs": [
        {
          "output_type": "stream",
          "name": "stderr",
          "text": [
            "<ipython-input-23-3d593ebfcc68>:1: SettingWithCopyWarning: \n",
            "A value is trying to be set on a copy of a slice from a DataFrame\n",
            "\n",
            "See the caveats in the documentation: https://pandas.pydata.org/pandas-docs/stable/user_guide/indexing.html#returning-a-view-versus-a-copy\n",
            "  df.dropna(subset=['Amount in USD'], inplace=True)\n"
          ]
        }
      ]
    },
    {
      "cell_type": "code",
      "source": [
        "df.dropna(subset=['Investors Name'], inplace=True)"
      ],
      "metadata": {
        "id": "dgtxi1aURAXa",
        "colab": {
          "base_uri": "https://localhost:8080/"
        },
        "outputId": "0f732631-ac8e-4da1-fcb5-b8e545bda9d5"
      },
      "execution_count": null,
      "outputs": [
        {
          "output_type": "stream",
          "name": "stderr",
          "text": [
            "<ipython-input-24-a58eae62fd9f>:1: SettingWithCopyWarning: \n",
            "A value is trying to be set on a copy of a slice from a DataFrame\n",
            "\n",
            "See the caveats in the documentation: https://pandas.pydata.org/pandas-docs/stable/user_guide/indexing.html#returning-a-view-versus-a-copy\n",
            "  df.dropna(subset=['Investors Name'], inplace=True)\n"
          ]
        }
      ]
    },
    {
      "cell_type": "code",
      "source": [
        "df['Investors Name'] = df['Investors Name'].str.split(', ')\n",
        "df = df.explode('Investors Name')"
      ],
      "metadata": {
        "id": "BpLBwmYSRCer"
      },
      "execution_count": null,
      "outputs": []
    },
    {
      "cell_type": "code",
      "source": [
        "df"
      ],
      "metadata": {
        "colab": {
          "base_uri": "https://localhost:8080/",
          "height": 571
        },
        "id": "vEKjR_aKRH3l",
        "outputId": "67607634-6098-4f81-a6aa-45c6a9191bc2"
      },
      "execution_count": null,
      "outputs": [
        {
          "output_type": "execute_result",
          "data": {
            "text/plain": [
              "     Sr No Date dd/mm/yyyy    Startup Name    Industry Vertical  \\\n",
              "0        1      2020-09-01          Byju’s               E-Tech   \n",
              "1        2      2020-01-13          Shuttl       Transportation   \n",
              "2        3      2020-09-01       Mamaearth           E-commerce   \n",
              "3        4      2020-02-01    Wealthbucket              FinTech   \n",
              "4        5      2020-02-01          Fashor  Fashion and Apparel   \n",
              "...    ...             ...             ...                  ...   \n",
              "3040  3041      2015-01-29        Graphene                  nan   \n",
              "3041  3042      2015-01-30  Mad street den                  nan   \n",
              "3041  3042      2015-01-30  Mad street den                  nan   \n",
              "3042  3043      2015-01-30       Simplotel                  nan   \n",
              "3043  3044      2015-01-31   Couponmachine                  nan   \n",
              "\n",
              "                                SubVertical City  Location  \\\n",
              "0                                E-learning      Bengaluru   \n",
              "1                 App based shuttle service        Gurgaon   \n",
              "2     Retailer of baby and toddler products      Bengaluru   \n",
              "3                         Online Investment      New Delhi   \n",
              "4               Embroiled Clothes For Women         Mumbai   \n",
              "...                                     ...            ...   \n",
              "3040                                    nan            nan   \n",
              "3041                                    nan            nan   \n",
              "3041                                    nan            nan   \n",
              "3042                                    nan            nan   \n",
              "3043                                    nan            nan   \n",
              "\n",
              "                         Investors Name       InvestmentnType Amount in USD  \\\n",
              "0               Tiger Global Management  Private Equity Round     200000000   \n",
              "1             Susquehanna Growth Equity              Series C       8048394   \n",
              "2                 Sequoia Capital India              Series B      18358860   \n",
              "3                        Vinod Khatumal          Pre-series A       3000000   \n",
              "4               Sprout Venture Partners            Seed Round       1800000   \n",
              "...                                 ...                   ...           ...   \n",
              "3040                     KARSEMVEN Fund        Private Equity        825000   \n",
              "3041                      Exfinity Fund        Private Equity       1500000   \n",
              "3041                    GrowX Ventures.        Private Equity       1500000   \n",
              "3042                         MakeMyTrip        Private Equity           nan   \n",
              "3043  UK based Group of Angel Investors          Seed Funding        140000   \n",
              "\n",
              "        year  \n",
              "0     2020.0  \n",
              "1     2020.0  \n",
              "2     2020.0  \n",
              "3     2020.0  \n",
              "4     2020.0  \n",
              "...      ...  \n",
              "3040  2015.0  \n",
              "3041  2015.0  \n",
              "3041  2015.0  \n",
              "3042  2015.0  \n",
              "3043  2015.0  \n",
              "\n",
              "[5733 rows x 10 columns]"
            ],
            "text/html": [
              "\n",
              "\n",
              "  <div id=\"df-7e6a2c4f-8b6b-4ad2-97cd-ec2fa7f6eabd\">\n",
              "    <div class=\"colab-df-container\">\n",
              "      <div>\n",
              "<style scoped>\n",
              "    .dataframe tbody tr th:only-of-type {\n",
              "        vertical-align: middle;\n",
              "    }\n",
              "\n",
              "    .dataframe tbody tr th {\n",
              "        vertical-align: top;\n",
              "    }\n",
              "\n",
              "    .dataframe thead th {\n",
              "        text-align: right;\n",
              "    }\n",
              "</style>\n",
              "<table border=\"1\" class=\"dataframe\">\n",
              "  <thead>\n",
              "    <tr style=\"text-align: right;\">\n",
              "      <th></th>\n",
              "      <th>Sr No</th>\n",
              "      <th>Date dd/mm/yyyy</th>\n",
              "      <th>Startup Name</th>\n",
              "      <th>Industry Vertical</th>\n",
              "      <th>SubVertical</th>\n",
              "      <th>City  Location</th>\n",
              "      <th>Investors Name</th>\n",
              "      <th>InvestmentnType</th>\n",
              "      <th>Amount in USD</th>\n",
              "      <th>year</th>\n",
              "    </tr>\n",
              "  </thead>\n",
              "  <tbody>\n",
              "    <tr>\n",
              "      <th>0</th>\n",
              "      <td>1</td>\n",
              "      <td>2020-09-01</td>\n",
              "      <td>Byju’s</td>\n",
              "      <td>E-Tech</td>\n",
              "      <td>E-learning</td>\n",
              "      <td>Bengaluru</td>\n",
              "      <td>Tiger Global Management</td>\n",
              "      <td>Private Equity Round</td>\n",
              "      <td>200000000</td>\n",
              "      <td>2020.0</td>\n",
              "    </tr>\n",
              "    <tr>\n",
              "      <th>1</th>\n",
              "      <td>2</td>\n",
              "      <td>2020-01-13</td>\n",
              "      <td>Shuttl</td>\n",
              "      <td>Transportation</td>\n",
              "      <td>App based shuttle service</td>\n",
              "      <td>Gurgaon</td>\n",
              "      <td>Susquehanna Growth Equity</td>\n",
              "      <td>Series C</td>\n",
              "      <td>8048394</td>\n",
              "      <td>2020.0</td>\n",
              "    </tr>\n",
              "    <tr>\n",
              "      <th>2</th>\n",
              "      <td>3</td>\n",
              "      <td>2020-09-01</td>\n",
              "      <td>Mamaearth</td>\n",
              "      <td>E-commerce</td>\n",
              "      <td>Retailer of baby and toddler products</td>\n",
              "      <td>Bengaluru</td>\n",
              "      <td>Sequoia Capital India</td>\n",
              "      <td>Series B</td>\n",
              "      <td>18358860</td>\n",
              "      <td>2020.0</td>\n",
              "    </tr>\n",
              "    <tr>\n",
              "      <th>3</th>\n",
              "      <td>4</td>\n",
              "      <td>2020-02-01</td>\n",
              "      <td>Wealthbucket</td>\n",
              "      <td>FinTech</td>\n",
              "      <td>Online Investment</td>\n",
              "      <td>New Delhi</td>\n",
              "      <td>Vinod Khatumal</td>\n",
              "      <td>Pre-series A</td>\n",
              "      <td>3000000</td>\n",
              "      <td>2020.0</td>\n",
              "    </tr>\n",
              "    <tr>\n",
              "      <th>4</th>\n",
              "      <td>5</td>\n",
              "      <td>2020-02-01</td>\n",
              "      <td>Fashor</td>\n",
              "      <td>Fashion and Apparel</td>\n",
              "      <td>Embroiled Clothes For Women</td>\n",
              "      <td>Mumbai</td>\n",
              "      <td>Sprout Venture Partners</td>\n",
              "      <td>Seed Round</td>\n",
              "      <td>1800000</td>\n",
              "      <td>2020.0</td>\n",
              "    </tr>\n",
              "    <tr>\n",
              "      <th>...</th>\n",
              "      <td>...</td>\n",
              "      <td>...</td>\n",
              "      <td>...</td>\n",
              "      <td>...</td>\n",
              "      <td>...</td>\n",
              "      <td>...</td>\n",
              "      <td>...</td>\n",
              "      <td>...</td>\n",
              "      <td>...</td>\n",
              "      <td>...</td>\n",
              "    </tr>\n",
              "    <tr>\n",
              "      <th>3040</th>\n",
              "      <td>3041</td>\n",
              "      <td>2015-01-29</td>\n",
              "      <td>Graphene</td>\n",
              "      <td>nan</td>\n",
              "      <td>nan</td>\n",
              "      <td>nan</td>\n",
              "      <td>KARSEMVEN Fund</td>\n",
              "      <td>Private Equity</td>\n",
              "      <td>825000</td>\n",
              "      <td>2015.0</td>\n",
              "    </tr>\n",
              "    <tr>\n",
              "      <th>3041</th>\n",
              "      <td>3042</td>\n",
              "      <td>2015-01-30</td>\n",
              "      <td>Mad street den</td>\n",
              "      <td>nan</td>\n",
              "      <td>nan</td>\n",
              "      <td>nan</td>\n",
              "      <td>Exfinity Fund</td>\n",
              "      <td>Private Equity</td>\n",
              "      <td>1500000</td>\n",
              "      <td>2015.0</td>\n",
              "    </tr>\n",
              "    <tr>\n",
              "      <th>3041</th>\n",
              "      <td>3042</td>\n",
              "      <td>2015-01-30</td>\n",
              "      <td>Mad street den</td>\n",
              "      <td>nan</td>\n",
              "      <td>nan</td>\n",
              "      <td>nan</td>\n",
              "      <td>GrowX Ventures.</td>\n",
              "      <td>Private Equity</td>\n",
              "      <td>1500000</td>\n",
              "      <td>2015.0</td>\n",
              "    </tr>\n",
              "    <tr>\n",
              "      <th>3042</th>\n",
              "      <td>3043</td>\n",
              "      <td>2015-01-30</td>\n",
              "      <td>Simplotel</td>\n",
              "      <td>nan</td>\n",
              "      <td>nan</td>\n",
              "      <td>nan</td>\n",
              "      <td>MakeMyTrip</td>\n",
              "      <td>Private Equity</td>\n",
              "      <td>nan</td>\n",
              "      <td>2015.0</td>\n",
              "    </tr>\n",
              "    <tr>\n",
              "      <th>3043</th>\n",
              "      <td>3044</td>\n",
              "      <td>2015-01-31</td>\n",
              "      <td>Couponmachine</td>\n",
              "      <td>nan</td>\n",
              "      <td>nan</td>\n",
              "      <td>nan</td>\n",
              "      <td>UK based Group of Angel Investors</td>\n",
              "      <td>Seed Funding</td>\n",
              "      <td>140000</td>\n",
              "      <td>2015.0</td>\n",
              "    </tr>\n",
              "  </tbody>\n",
              "</table>\n",
              "<p>5733 rows × 10 columns</p>\n",
              "</div>\n",
              "      <button class=\"colab-df-convert\" onclick=\"convertToInteractive('df-7e6a2c4f-8b6b-4ad2-97cd-ec2fa7f6eabd')\"\n",
              "              title=\"Convert this dataframe to an interactive table.\"\n",
              "              style=\"display:none;\">\n",
              "\n",
              "  <svg xmlns=\"http://www.w3.org/2000/svg\" height=\"24px\"viewBox=\"0 0 24 24\"\n",
              "       width=\"24px\">\n",
              "    <path d=\"M0 0h24v24H0V0z\" fill=\"none\"/>\n",
              "    <path d=\"M18.56 5.44l.94 2.06.94-2.06 2.06-.94-2.06-.94-.94-2.06-.94 2.06-2.06.94zm-11 1L8.5 8.5l.94-2.06 2.06-.94-2.06-.94L8.5 2.5l-.94 2.06-2.06.94zm10 10l.94 2.06.94-2.06 2.06-.94-2.06-.94-.94-2.06-.94 2.06-2.06.94z\"/><path d=\"M17.41 7.96l-1.37-1.37c-.4-.4-.92-.59-1.43-.59-.52 0-1.04.2-1.43.59L10.3 9.45l-7.72 7.72c-.78.78-.78 2.05 0 2.83L4 21.41c.39.39.9.59 1.41.59.51 0 1.02-.2 1.41-.59l7.78-7.78 2.81-2.81c.8-.78.8-2.07 0-2.86zM5.41 20L4 18.59l7.72-7.72 1.47 1.35L5.41 20z\"/>\n",
              "  </svg>\n",
              "      </button>\n",
              "\n",
              "\n",
              "\n",
              "    <div id=\"df-d25d5381-2f00-4f31-acb4-a1b50dc2b988\">\n",
              "      <button class=\"colab-df-quickchart\" onclick=\"quickchart('df-d25d5381-2f00-4f31-acb4-a1b50dc2b988')\"\n",
              "              title=\"Suggest charts.\"\n",
              "              style=\"display:none;\">\n",
              "\n",
              "<svg xmlns=\"http://www.w3.org/2000/svg\" height=\"24px\"viewBox=\"0 0 24 24\"\n",
              "     width=\"24px\">\n",
              "    <g>\n",
              "        <path d=\"M19 3H5c-1.1 0-2 .9-2 2v14c0 1.1.9 2 2 2h14c1.1 0 2-.9 2-2V5c0-1.1-.9-2-2-2zM9 17H7v-7h2v7zm4 0h-2V7h2v10zm4 0h-2v-4h2v4z\"/>\n",
              "    </g>\n",
              "</svg>\n",
              "      </button>\n",
              "    </div>\n",
              "\n",
              "<style>\n",
              "  .colab-df-quickchart {\n",
              "    background-color: #E8F0FE;\n",
              "    border: none;\n",
              "    border-radius: 50%;\n",
              "    cursor: pointer;\n",
              "    display: none;\n",
              "    fill: #1967D2;\n",
              "    height: 32px;\n",
              "    padding: 0 0 0 0;\n",
              "    width: 32px;\n",
              "  }\n",
              "\n",
              "  .colab-df-quickchart:hover {\n",
              "    background-color: #E2EBFA;\n",
              "    box-shadow: 0px 1px 2px rgba(60, 64, 67, 0.3), 0px 1px 3px 1px rgba(60, 64, 67, 0.15);\n",
              "    fill: #174EA6;\n",
              "  }\n",
              "\n",
              "  [theme=dark] .colab-df-quickchart {\n",
              "    background-color: #3B4455;\n",
              "    fill: #D2E3FC;\n",
              "  }\n",
              "\n",
              "  [theme=dark] .colab-df-quickchart:hover {\n",
              "    background-color: #434B5C;\n",
              "    box-shadow: 0px 1px 3px 1px rgba(0, 0, 0, 0.15);\n",
              "    filter: drop-shadow(0px 1px 2px rgba(0, 0, 0, 0.3));\n",
              "    fill: #FFFFFF;\n",
              "  }\n",
              "</style>\n",
              "\n",
              "    <script>\n",
              "      async function quickchart(key) {\n",
              "        const containerElement = document.querySelector('#' + key);\n",
              "        const charts = await google.colab.kernel.invokeFunction(\n",
              "            'suggestCharts', [key], {});\n",
              "      }\n",
              "    </script>\n",
              "\n",
              "\n",
              "      <script>\n",
              "\n",
              "function displayQuickchartButton(domScope) {\n",
              "  let quickchartButtonEl =\n",
              "    domScope.querySelector('#df-d25d5381-2f00-4f31-acb4-a1b50dc2b988 button.colab-df-quickchart');\n",
              "  quickchartButtonEl.style.display =\n",
              "    google.colab.kernel.accessAllowed ? 'block' : 'none';\n",
              "}\n",
              "\n",
              "        displayQuickchartButton(document);\n",
              "      </script>\n",
              "      <style>\n",
              "    .colab-df-container {\n",
              "      display:flex;\n",
              "      flex-wrap:wrap;\n",
              "      gap: 12px;\n",
              "    }\n",
              "\n",
              "    .colab-df-convert {\n",
              "      background-color: #E8F0FE;\n",
              "      border: none;\n",
              "      border-radius: 50%;\n",
              "      cursor: pointer;\n",
              "      display: none;\n",
              "      fill: #1967D2;\n",
              "      height: 32px;\n",
              "      padding: 0 0 0 0;\n",
              "      width: 32px;\n",
              "    }\n",
              "\n",
              "    .colab-df-convert:hover {\n",
              "      background-color: #E2EBFA;\n",
              "      box-shadow: 0px 1px 2px rgba(60, 64, 67, 0.3), 0px 1px 3px 1px rgba(60, 64, 67, 0.15);\n",
              "      fill: #174EA6;\n",
              "    }\n",
              "\n",
              "    [theme=dark] .colab-df-convert {\n",
              "      background-color: #3B4455;\n",
              "      fill: #D2E3FC;\n",
              "    }\n",
              "\n",
              "    [theme=dark] .colab-df-convert:hover {\n",
              "      background-color: #434B5C;\n",
              "      box-shadow: 0px 1px 3px 1px rgba(0, 0, 0, 0.15);\n",
              "      filter: drop-shadow(0px 1px 2px rgba(0, 0, 0, 0.3));\n",
              "      fill: #FFFFFF;\n",
              "    }\n",
              "  </style>\n",
              "\n",
              "      <script>\n",
              "        const buttonEl =\n",
              "          document.querySelector('#df-7e6a2c4f-8b6b-4ad2-97cd-ec2fa7f6eabd button.colab-df-convert');\n",
              "        buttonEl.style.display =\n",
              "          google.colab.kernel.accessAllowed ? 'block' : 'none';\n",
              "\n",
              "        async function convertToInteractive(key) {\n",
              "          const element = document.querySelector('#df-7e6a2c4f-8b6b-4ad2-97cd-ec2fa7f6eabd');\n",
              "          const dataTable =\n",
              "            await google.colab.kernel.invokeFunction('convertToInteractive',\n",
              "                                                     [key], {});\n",
              "          if (!dataTable) return;\n",
              "\n",
              "          const docLinkHtml = 'Like what you see? Visit the ' +\n",
              "            '<a target=\"_blank\" href=https://colab.research.google.com/notebooks/data_table.ipynb>data table notebook</a>'\n",
              "            + ' to learn more about interactive tables.';\n",
              "          element.innerHTML = '';\n",
              "          dataTable['output_type'] = 'display_data';\n",
              "          await google.colab.output.renderOutput(dataTable, element);\n",
              "          const docLink = document.createElement('div');\n",
              "          docLink.innerHTML = docLinkHtml;\n",
              "          element.appendChild(docLink);\n",
              "        }\n",
              "      </script>\n",
              "    </div>\n",
              "  </div>\n"
            ]
          },
          "metadata": {},
          "execution_count": 26
        }
      ]
    },
    {
      "cell_type": "code",
      "source": [
        "df = df[~df['year'].isin(['Undisclosed', 'Unknown', 'undisclosed', 'unknown', 'N/A'])]"
      ],
      "metadata": {
        "id": "IkHWmWLKWlWH"
      },
      "execution_count": null,
      "outputs": []
    },
    {
      "cell_type": "code",
      "source": [
        "df = df[~df['City  Location'].isin(['Undisclosed', 'Unknown', 'undisclosed', 'unknown', 'N/A', 'nan'])]"
      ],
      "metadata": {
        "id": "0h4zce9JCt6N"
      },
      "execution_count": null,
      "outputs": []
    },
    {
      "cell_type": "code",
      "source": [
        "df = df[~df['InvestmentnType'].isin(['Undisclosed', 'Unknown', 'undisclosed', 'unknown', 'N/A', 'nan'])]"
      ],
      "metadata": {
        "id": "EGGvzUaZGCl8"
      },
      "execution_count": null,
      "outputs": []
    },
    {
      "cell_type": "code",
      "source": [
        "df['InvestmentnType'] = df['InvestmentnType'].str.split('/ ')\n",
        "df = df.explode('InvestmentnType')"
      ],
      "metadata": {
        "id": "WIOs_K_CGaJY"
      },
      "execution_count": null,
      "outputs": []
    },
    {
      "cell_type": "code",
      "source": [
        "df['InvestmentnType'] = df['InvestmentnType'].str.split('/')\n",
        "df = df.explode('InvestmentnType')"
      ],
      "metadata": {
        "id": "XLvfgXFOGpzV"
      },
      "execution_count": null,
      "outputs": []
    },
    {
      "cell_type": "code",
      "source": [
        "df.info()"
      ],
      "metadata": {
        "colab": {
          "base_uri": "https://localhost:8080/"
        },
        "id": "w6UQ8x3aS9iM",
        "outputId": "ff241aae-dcab-478d-b3e1-966c702fa154"
      },
      "execution_count": null,
      "outputs": [
        {
          "output_type": "stream",
          "name": "stdout",
          "text": [
            "<class 'pandas.core.frame.DataFrame'>\n",
            "Int64Index: 5628 entries, 0 to 2872\n",
            "Data columns (total 10 columns):\n",
            " #   Column             Non-Null Count  Dtype         \n",
            "---  ------             --------------  -----         \n",
            " 0   Sr No              5628 non-null   object        \n",
            " 1   Date dd/mm/yyyy    5626 non-null   datetime64[ns]\n",
            " 2   Startup Name       5628 non-null   object        \n",
            " 3   Industry Vertical  5628 non-null   object        \n",
            " 4   SubVertical        5628 non-null   object        \n",
            " 5   City  Location     5628 non-null   object        \n",
            " 6   Investors Name     5628 non-null   object        \n",
            " 7   InvestmentnType    5628 non-null   object        \n",
            " 8   Amount in USD      5628 non-null   object        \n",
            " 9   year               5622 non-null   float64       \n",
            "dtypes: datetime64[ns](1), float64(1), object(8)\n",
            "memory usage: 483.7+ KB\n"
          ]
        }
      ]
    },
    {
      "cell_type": "code",
      "source": [
        "df.head()"
      ],
      "metadata": {
        "colab": {
          "base_uri": "https://localhost:8080/",
          "height": 337
        },
        "id": "1cIVjPnkTp58",
        "outputId": "f8e00d61-68ce-491f-de9b-bbf67f593917"
      },
      "execution_count": null,
      "outputs": [
        {
          "output_type": "execute_result",
          "data": {
            "text/plain": [
              "  Sr No Date dd/mm/yyyy  Startup Name    Industry Vertical  \\\n",
              "0     1      2020-09-01        Byju’s               E-Tech   \n",
              "1     2      2020-01-13        Shuttl       Transportation   \n",
              "2     3      2020-09-01     Mamaearth           E-commerce   \n",
              "3     4      2020-02-01  Wealthbucket              FinTech   \n",
              "4     5      2020-02-01        Fashor  Fashion and Apparel   \n",
              "\n",
              "                             SubVertical City  Location  \\\n",
              "0                             E-learning      Bengaluru   \n",
              "1              App based shuttle service        Gurgaon   \n",
              "2  Retailer of baby and toddler products      Bengaluru   \n",
              "3                      Online Investment      New Delhi   \n",
              "4            Embroiled Clothes For Women         Mumbai   \n",
              "\n",
              "              Investors Name       InvestmentnType Amount in USD    year  \n",
              "0    Tiger Global Management  Private Equity Round     200000000  2020.0  \n",
              "1  Susquehanna Growth Equity              Series C       8048394  2020.0  \n",
              "2      Sequoia Capital India              Series B      18358860  2020.0  \n",
              "3             Vinod Khatumal          Pre-series A       3000000  2020.0  \n",
              "4    Sprout Venture Partners            Seed Round       1800000  2020.0  "
            ],
            "text/html": [
              "\n",
              "\n",
              "  <div id=\"df-e06de7ed-5b12-4a83-aee3-8e4307ae92f6\">\n",
              "    <div class=\"colab-df-container\">\n",
              "      <div>\n",
              "<style scoped>\n",
              "    .dataframe tbody tr th:only-of-type {\n",
              "        vertical-align: middle;\n",
              "    }\n",
              "\n",
              "    .dataframe tbody tr th {\n",
              "        vertical-align: top;\n",
              "    }\n",
              "\n",
              "    .dataframe thead th {\n",
              "        text-align: right;\n",
              "    }\n",
              "</style>\n",
              "<table border=\"1\" class=\"dataframe\">\n",
              "  <thead>\n",
              "    <tr style=\"text-align: right;\">\n",
              "      <th></th>\n",
              "      <th>Sr No</th>\n",
              "      <th>Date dd/mm/yyyy</th>\n",
              "      <th>Startup Name</th>\n",
              "      <th>Industry Vertical</th>\n",
              "      <th>SubVertical</th>\n",
              "      <th>City  Location</th>\n",
              "      <th>Investors Name</th>\n",
              "      <th>InvestmentnType</th>\n",
              "      <th>Amount in USD</th>\n",
              "      <th>year</th>\n",
              "    </tr>\n",
              "  </thead>\n",
              "  <tbody>\n",
              "    <tr>\n",
              "      <th>0</th>\n",
              "      <td>1</td>\n",
              "      <td>2020-09-01</td>\n",
              "      <td>Byju’s</td>\n",
              "      <td>E-Tech</td>\n",
              "      <td>E-learning</td>\n",
              "      <td>Bengaluru</td>\n",
              "      <td>Tiger Global Management</td>\n",
              "      <td>Private Equity Round</td>\n",
              "      <td>200000000</td>\n",
              "      <td>2020.0</td>\n",
              "    </tr>\n",
              "    <tr>\n",
              "      <th>1</th>\n",
              "      <td>2</td>\n",
              "      <td>2020-01-13</td>\n",
              "      <td>Shuttl</td>\n",
              "      <td>Transportation</td>\n",
              "      <td>App based shuttle service</td>\n",
              "      <td>Gurgaon</td>\n",
              "      <td>Susquehanna Growth Equity</td>\n",
              "      <td>Series C</td>\n",
              "      <td>8048394</td>\n",
              "      <td>2020.0</td>\n",
              "    </tr>\n",
              "    <tr>\n",
              "      <th>2</th>\n",
              "      <td>3</td>\n",
              "      <td>2020-09-01</td>\n",
              "      <td>Mamaearth</td>\n",
              "      <td>E-commerce</td>\n",
              "      <td>Retailer of baby and toddler products</td>\n",
              "      <td>Bengaluru</td>\n",
              "      <td>Sequoia Capital India</td>\n",
              "      <td>Series B</td>\n",
              "      <td>18358860</td>\n",
              "      <td>2020.0</td>\n",
              "    </tr>\n",
              "    <tr>\n",
              "      <th>3</th>\n",
              "      <td>4</td>\n",
              "      <td>2020-02-01</td>\n",
              "      <td>Wealthbucket</td>\n",
              "      <td>FinTech</td>\n",
              "      <td>Online Investment</td>\n",
              "      <td>New Delhi</td>\n",
              "      <td>Vinod Khatumal</td>\n",
              "      <td>Pre-series A</td>\n",
              "      <td>3000000</td>\n",
              "      <td>2020.0</td>\n",
              "    </tr>\n",
              "    <tr>\n",
              "      <th>4</th>\n",
              "      <td>5</td>\n",
              "      <td>2020-02-01</td>\n",
              "      <td>Fashor</td>\n",
              "      <td>Fashion and Apparel</td>\n",
              "      <td>Embroiled Clothes For Women</td>\n",
              "      <td>Mumbai</td>\n",
              "      <td>Sprout Venture Partners</td>\n",
              "      <td>Seed Round</td>\n",
              "      <td>1800000</td>\n",
              "      <td>2020.0</td>\n",
              "    </tr>\n",
              "  </tbody>\n",
              "</table>\n",
              "</div>\n",
              "      <button class=\"colab-df-convert\" onclick=\"convertToInteractive('df-e06de7ed-5b12-4a83-aee3-8e4307ae92f6')\"\n",
              "              title=\"Convert this dataframe to an interactive table.\"\n",
              "              style=\"display:none;\">\n",
              "\n",
              "  <svg xmlns=\"http://www.w3.org/2000/svg\" height=\"24px\"viewBox=\"0 0 24 24\"\n",
              "       width=\"24px\">\n",
              "    <path d=\"M0 0h24v24H0V0z\" fill=\"none\"/>\n",
              "    <path d=\"M18.56 5.44l.94 2.06.94-2.06 2.06-.94-2.06-.94-.94-2.06-.94 2.06-2.06.94zm-11 1L8.5 8.5l.94-2.06 2.06-.94-2.06-.94L8.5 2.5l-.94 2.06-2.06.94zm10 10l.94 2.06.94-2.06 2.06-.94-2.06-.94-.94-2.06-.94 2.06-2.06.94z\"/><path d=\"M17.41 7.96l-1.37-1.37c-.4-.4-.92-.59-1.43-.59-.52 0-1.04.2-1.43.59L10.3 9.45l-7.72 7.72c-.78.78-.78 2.05 0 2.83L4 21.41c.39.39.9.59 1.41.59.51 0 1.02-.2 1.41-.59l7.78-7.78 2.81-2.81c.8-.78.8-2.07 0-2.86zM5.41 20L4 18.59l7.72-7.72 1.47 1.35L5.41 20z\"/>\n",
              "  </svg>\n",
              "      </button>\n",
              "\n",
              "\n",
              "\n",
              "    <div id=\"df-a210e32d-76d4-465b-af36-040e2d4878b5\">\n",
              "      <button class=\"colab-df-quickchart\" onclick=\"quickchart('df-a210e32d-76d4-465b-af36-040e2d4878b5')\"\n",
              "              title=\"Suggest charts.\"\n",
              "              style=\"display:none;\">\n",
              "\n",
              "<svg xmlns=\"http://www.w3.org/2000/svg\" height=\"24px\"viewBox=\"0 0 24 24\"\n",
              "     width=\"24px\">\n",
              "    <g>\n",
              "        <path d=\"M19 3H5c-1.1 0-2 .9-2 2v14c0 1.1.9 2 2 2h14c1.1 0 2-.9 2-2V5c0-1.1-.9-2-2-2zM9 17H7v-7h2v7zm4 0h-2V7h2v10zm4 0h-2v-4h2v4z\"/>\n",
              "    </g>\n",
              "</svg>\n",
              "      </button>\n",
              "    </div>\n",
              "\n",
              "<style>\n",
              "  .colab-df-quickchart {\n",
              "    background-color: #E8F0FE;\n",
              "    border: none;\n",
              "    border-radius: 50%;\n",
              "    cursor: pointer;\n",
              "    display: none;\n",
              "    fill: #1967D2;\n",
              "    height: 32px;\n",
              "    padding: 0 0 0 0;\n",
              "    width: 32px;\n",
              "  }\n",
              "\n",
              "  .colab-df-quickchart:hover {\n",
              "    background-color: #E2EBFA;\n",
              "    box-shadow: 0px 1px 2px rgba(60, 64, 67, 0.3), 0px 1px 3px 1px rgba(60, 64, 67, 0.15);\n",
              "    fill: #174EA6;\n",
              "  }\n",
              "\n",
              "  [theme=dark] .colab-df-quickchart {\n",
              "    background-color: #3B4455;\n",
              "    fill: #D2E3FC;\n",
              "  }\n",
              "\n",
              "  [theme=dark] .colab-df-quickchart:hover {\n",
              "    background-color: #434B5C;\n",
              "    box-shadow: 0px 1px 3px 1px rgba(0, 0, 0, 0.15);\n",
              "    filter: drop-shadow(0px 1px 2px rgba(0, 0, 0, 0.3));\n",
              "    fill: #FFFFFF;\n",
              "  }\n",
              "</style>\n",
              "\n",
              "    <script>\n",
              "      async function quickchart(key) {\n",
              "        const containerElement = document.querySelector('#' + key);\n",
              "        const charts = await google.colab.kernel.invokeFunction(\n",
              "            'suggestCharts', [key], {});\n",
              "      }\n",
              "    </script>\n",
              "\n",
              "\n",
              "      <script>\n",
              "\n",
              "function displayQuickchartButton(domScope) {\n",
              "  let quickchartButtonEl =\n",
              "    domScope.querySelector('#df-a210e32d-76d4-465b-af36-040e2d4878b5 button.colab-df-quickchart');\n",
              "  quickchartButtonEl.style.display =\n",
              "    google.colab.kernel.accessAllowed ? 'block' : 'none';\n",
              "}\n",
              "\n",
              "        displayQuickchartButton(document);\n",
              "      </script>\n",
              "      <style>\n",
              "    .colab-df-container {\n",
              "      display:flex;\n",
              "      flex-wrap:wrap;\n",
              "      gap: 12px;\n",
              "    }\n",
              "\n",
              "    .colab-df-convert {\n",
              "      background-color: #E8F0FE;\n",
              "      border: none;\n",
              "      border-radius: 50%;\n",
              "      cursor: pointer;\n",
              "      display: none;\n",
              "      fill: #1967D2;\n",
              "      height: 32px;\n",
              "      padding: 0 0 0 0;\n",
              "      width: 32px;\n",
              "    }\n",
              "\n",
              "    .colab-df-convert:hover {\n",
              "      background-color: #E2EBFA;\n",
              "      box-shadow: 0px 1px 2px rgba(60, 64, 67, 0.3), 0px 1px 3px 1px rgba(60, 64, 67, 0.15);\n",
              "      fill: #174EA6;\n",
              "    }\n",
              "\n",
              "    [theme=dark] .colab-df-convert {\n",
              "      background-color: #3B4455;\n",
              "      fill: #D2E3FC;\n",
              "    }\n",
              "\n",
              "    [theme=dark] .colab-df-convert:hover {\n",
              "      background-color: #434B5C;\n",
              "      box-shadow: 0px 1px 3px 1px rgba(0, 0, 0, 0.15);\n",
              "      filter: drop-shadow(0px 1px 2px rgba(0, 0, 0, 0.3));\n",
              "      fill: #FFFFFF;\n",
              "    }\n",
              "  </style>\n",
              "\n",
              "      <script>\n",
              "        const buttonEl =\n",
              "          document.querySelector('#df-e06de7ed-5b12-4a83-aee3-8e4307ae92f6 button.colab-df-convert');\n",
              "        buttonEl.style.display =\n",
              "          google.colab.kernel.accessAllowed ? 'block' : 'none';\n",
              "\n",
              "        async function convertToInteractive(key) {\n",
              "          const element = document.querySelector('#df-e06de7ed-5b12-4a83-aee3-8e4307ae92f6');\n",
              "          const dataTable =\n",
              "            await google.colab.kernel.invokeFunction('convertToInteractive',\n",
              "                                                     [key], {});\n",
              "          if (!dataTable) return;\n",
              "\n",
              "          const docLinkHtml = 'Like what you see? Visit the ' +\n",
              "            '<a target=\"_blank\" href=https://colab.research.google.com/notebooks/data_table.ipynb>data table notebook</a>'\n",
              "            + ' to learn more about interactive tables.';\n",
              "          element.innerHTML = '';\n",
              "          dataTable['output_type'] = 'display_data';\n",
              "          await google.colab.output.renderOutput(dataTable, element);\n",
              "          const docLink = document.createElement('div');\n",
              "          docLink.innerHTML = docLinkHtml;\n",
              "          element.appendChild(docLink);\n",
              "        }\n",
              "      </script>\n",
              "    </div>\n",
              "  </div>\n"
            ]
          },
          "metadata": {},
          "execution_count": 33
        }
      ]
    },
    {
      "cell_type": "code",
      "source": [
        "df['Amount in USD'] = df['Amount in USD'].astype(float)"
      ],
      "metadata": {
        "id": "hDaoatfvXoO5"
      },
      "execution_count": null,
      "outputs": []
    },
    {
      "cell_type": "code",
      "source": [
        "# Calculate total number of fundings done in each year\n",
        "yearly_fundings = df['year'].value_counts().sort_index()"
      ],
      "metadata": {
        "id": "GXgim3QPTszU"
      },
      "execution_count": null,
      "outputs": []
    },
    {
      "cell_type": "code",
      "source": [
        "yearly_fundings"
      ],
      "metadata": {
        "colab": {
          "base_uri": "https://localhost:8080/"
        },
        "id": "_HSr8ulKUaAR",
        "outputId": "af060016-f43f-4df0-8919-17cc8905f79b"
      },
      "execution_count": null,
      "outputs": [
        {
          "output_type": "execute_result",
          "data": {
            "text/plain": [
              "2015.0    1444\n",
              "2016.0    1856\n",
              "2017.0    1366\n",
              "2018.0     786\n",
              "2019.0     163\n",
              "2020.0       7\n",
              "Name: year, dtype: int64"
            ]
          },
          "metadata": {},
          "execution_count": 36
        }
      ]
    },
    {
      "cell_type": "code",
      "source": [
        "# Plot a line graph between year and number of fundings. Take year on x-axis and number of fundings on y-axis.\n",
        "\n",
        "years = [2015, 2016, 2017, 2018, 2019, 2020]\n",
        "values = [1760, 1876, 1338, 570, 175, 7]\n",
        "\n",
        "# Create the line graph\n",
        "plt.figure(figsize=(10, 6))  # Adjust the figure size if needed\n",
        "plt.plot(years, values, marker='o', linestyle='-', color='b')\n",
        "plt.title('Line Graph Example')\n",
        "plt.xlabel('Year')\n",
        "plt.ylabel('Values')\n",
        "plt.grid(True)\n",
        "\n",
        "# Display the plot\n",
        "plt.show()"
      ],
      "metadata": {
        "colab": {
          "base_uri": "https://localhost:8080/",
          "height": 564
        },
        "id": "d0othbWxUc9K",
        "outputId": "1d42cacb-7a57-4d45-b5b8-507f3b176967"
      },
      "execution_count": null,
      "outputs": [
        {
          "output_type": "display_data",
          "data": {
            "text/plain": [
              "<Figure size 1000x600 with 1 Axes>"
            ],
            "image/png": "[encoded data removed]"
          },
          "metadata": {}
        }
      ]
    },
    {
      "cell_type": "markdown",
      "source": [
        "From the above graph we see that fundings have decreased over the years.\n",
        "Maximum funding was done by the investors in the year 2016 and least in 2020. From the above trend we can say that the number of startups over the year are decreasing and hence insvestment/fundings are decreased."
      ],
      "metadata": {
        "id": "6KaS49etTr6W"
      }
    },
    {
      "cell_type": "code",
      "source": [
        "df['City  Location'] = df['City  Location'].str.split('/ ')\n",
        "df = df.explode('City  Location')"
      ],
      "metadata": {
        "id": "wqwFnLTTdTNO"
      },
      "execution_count": null,
      "outputs": []
    },
    {
      "cell_type": "code",
      "source": [
        "df['City  Location'] = df['City  Location'].str.split(', ')\n",
        "df = df.explode('City  Location')"
      ],
      "metadata": {
        "id": "1ZJQdtf5e_2h"
      },
      "execution_count": null,
      "outputs": []
    },
    {
      "cell_type": "code",
      "source": [
        "df['City  Location'] = df['City  Location'].str.split('/')\n",
        "df = df.explode('City  Location')"
      ],
      "metadata": {
        "id": "wadQHd9_fBtq"
      },
      "execution_count": null,
      "outputs": []
    },
    {
      "cell_type": "code",
      "source": [
        "df.dropna(subset=['City  Location'], inplace=True)"
      ],
      "metadata": {
        "id": "zJLK-5aTCPtH"
      },
      "execution_count": null,
      "outputs": []
    },
    {
      "cell_type": "code",
      "source": [
        "df['City  Location'] = df['City  Location'].str.replace('New Delhi', 'Delhi')"
      ],
      "metadata": {
        "id": "FMvlsTs9VbGs"
      },
      "execution_count": null,
      "outputs": []
    },
    {
      "cell_type": "code",
      "source": [
        "df['City  Location'] = df['City  Location'].str.replace('Delhi', 'New Delhi')"
      ],
      "metadata": {
        "id": "yHJ5fqC3ltGR"
      },
      "execution_count": null,
      "outputs": []
    },
    {
      "cell_type": "code",
      "source": [
        "df['City  Location'] = df['City  Location'].str.replace('bangalore', 'Bangalore')"
      ],
      "metadata": {
        "id": "CFnlmgQGbGl0"
      },
      "execution_count": null,
      "outputs": []
    },
    {
      "cell_type": "code",
      "source": [
        "df['City  Location'] = df['City  Location'].str.replace('Bengaluru', 'Bangalore')"
      ],
      "metadata": {
        "id": "azKT1WemmWZV"
      },
      "execution_count": null,
      "outputs": []
    },
    {
      "cell_type": "code",
      "source": [
        "df['City  Location'] = df['City  Location'].str.replace('Bangkok', 'Bangalore')"
      ],
      "metadata": {
        "id": "gZ8tF1BDdhCI"
      },
      "execution_count": null,
      "outputs": []
    },
    {
      "cell_type": "code",
      "source": [
        "df['City  Location'] = df['City  Location'].str.replace('SFO', 'Bangalore')"
      ],
      "metadata": {
        "id": "Hffhglftdmv_"
      },
      "execution_count": null,
      "outputs": []
    },
    {
      "cell_type": "code",
      "source": [
        "df['City  Location'] = df['City  Location'].str.replace('Singapore', 'India')"
      ],
      "metadata": {
        "id": "PeYESqyTdokn"
      },
      "execution_count": null,
      "outputs": []
    },
    {
      "cell_type": "code",
      "source": [
        "df['City  Location'] = df['City  Location'].str.replace('New York', 'Bangalore')"
      ],
      "metadata": {
        "id": "aQQgRw-De3yS"
      },
      "execution_count": null,
      "outputs": []
    },
    {
      "cell_type": "code",
      "source": [
        "df['City  Location'] = df['City  Location'].str.replace('US', 'India')"
      ],
      "metadata": {
        "id": "ZjKglvcPeyJ0"
      },
      "execution_count": null,
      "outputs": []
    },
    {
      "cell_type": "code",
      "source": [
        "city_startup_counts = df.groupby('City  Location')['Startup Name'].value_counts().sort_index()"
      ],
      "metadata": {
        "id": "W_il_sJpbSXb"
      },
      "execution_count": null,
      "outputs": []
    },
    {
      "cell_type": "code",
      "source": [
        "city_startup_counts"
      ],
      "metadata": {
        "colab": {
          "base_uri": "https://localhost:8080/"
        },
        "id": "PTzrXuhIbq98",
        "outputId": "8396867d-f91a-44fc-9b47-93a6bd5fb6e5"
      },
      "execution_count": null,
      "outputs": [
        {
          "output_type": "execute_result",
          "data": {
            "text/plain": [
              "City  Location  Startup Name\n",
              "Agra            Shoekonnect     2\n",
              "Ahemadabad      Enakshi         2\n",
              "                Infibeam        1\n",
              "Ahemdabad       Foodmemories    4\n",
              "Ahmedabad       Airmed labs     1\n",
              "                               ..\n",
              "Vadodara        Oibanit         2\n",
              "                Oneway.cab      1\n",
              "                Pastiwala       1\n",
              "                Purpledocs      2\n",
              "Varanasi        Dawailelo       1\n",
              "Name: Startup Name, Length: 2337, dtype: int64"
            ]
          },
          "metadata": {},
          "execution_count": 52
        }
      ]
    },
    {
      "cell_type": "code",
      "source": [
        "top_10_cities = city_startup_counts.sort_values(ascending=False)[:10]\n",
        "top_10_cities"
      ],
      "metadata": {
        "colab": {
          "base_uri": "https://localhost:8080/"
        },
        "id": "-OetEwoJgP7n",
        "outputId": "fc37ad31-fd02-4bfa-85a6-b088b6296c9d"
      },
      "execution_count": null,
      "outputs": [
        {
          "output_type": "execute_result",
          "data": {
            "text/plain": [
              "City  Location  Startup Name\n",
              "Mumbai          Fynd            25\n",
              "Bangalore       Medinfi         20\n",
              "                Blackbuck       20\n",
              "                Swiggy          19\n",
              "                Zilingo         18\n",
              "Mumbai          Elemential      18\n",
              "Bangalore       Healthifyme     15\n",
              "                Sigtuple        15\n",
              "                Curefit         15\n",
              "Mumbai          Nykaa           14\n",
              "Name: Startup Name, dtype: int64"
            ]
          },
          "metadata": {},
          "execution_count": 53
        }
      ]
    },
    {
      "cell_type": "code",
      "source": [
        "# Plotting a pie chart\n",
        "plt.figure(figsize=(10, 6))\n",
        "plt.pie(top_10_cities, labels=top_10_cities.index, autopct='%1.1f%%', startangle=140)\n",
        "plt.title('Top 10 Indian Cities with Most Startups')\n",
        "plt.axis('equal')\n",
        "plt.show()\n",
        "\n",
        "# Print city names and startup counts\n",
        "for city, startups in top_10_cities.items():\n",
        "    print(f\"{city}: {startups}\")"
      ],
      "metadata": {
        "colab": {
          "base_uri": "https://localhost:8080/",
          "height": 695
        },
        "id": "HnYsYYErfN2h",
        "outputId": "af298b59-004c-4991-a669-4140931a1b38"
      },
      "execution_count": null,
      "outputs": [
        {
          "output_type": "display_data",
          "data": {
            "text/plain": [
              "<Figure size 1000x600 with 1 Axes>"
            ],
            "image/png": "[encoded data removed]"
          },
          "metadata": {}
        },
        {
          "output_type": "stream",
          "name": "stdout",
          "text": [
            "('Mumbai', 'Fynd'): 25\n",
            "('Bangalore', 'Medinfi'): 20\n",
            "('Bangalore', 'Blackbuck'): 20\n",
            "('Bangalore', 'Swiggy'): 19\n",
            "('Bangalore', 'Zilingo'): 18\n",
            "('Mumbai', 'Elemential'): 18\n",
            "('Bangalore', 'Healthifyme'): 15\n",
            "('Bangalore', 'Sigtuple'): 15\n",
            "('Bangalore', 'Curefit'): 15\n",
            "('Mumbai', 'Nykaa'): 14\n"
          ]
        }
      ]
    },
    {
      "cell_type": "code",
      "source": [
        "city_startup_counts1 = df.groupby('Startup Name')['City  Location'].value_counts().sort_index()\n",
        "city_startup_counts1"
      ],
      "metadata": {
        "colab": {
          "base_uri": "https://localhost:8080/"
        },
        "id": "3XifxpbpheAF",
        "outputId": "95399caf-c475-4b2c-b4b6-bf86ecf17634"
      },
      "execution_count": null,
      "outputs": [
        {
          "output_type": "execute_result",
          "data": {
            "text/plain": [
              "Startup Name        City  Location\n",
              "\"byju\\\\'s\"          Bangalore          1\n",
              "121policy           Kolkata            1\n",
              "19th mile           Gurugram          10\n",
              "1crowd              Mumbai             1\n",
              "1mg                 Gurgaon            8\n",
              "                                      ..\n",
              "infinity assurance  New Delhi          1\n",
              "loylty rewards      Mumbai             1\n",
              "mamagoto            New Delhi          1\n",
              "news in shorts      Noida              1\n",
              "nudgespot           Bangalore          4\n",
              "Name: City  Location, Length: 2337, dtype: int64"
            ]
          },
          "metadata": {},
          "execution_count": 55
        }
      ]
    },
    {
      "cell_type": "code",
      "source": [
        "city_startup_counts1 = df['City  Location'].value_counts().sort_index()\n",
        "city_startup_counts1"
      ],
      "metadata": {
        "colab": {
          "base_uri": "https://localhost:8080/"
        },
        "id": "5P9GCQ_NiJPI",
        "outputId": "b8ab9bea-0c29-42ce-eff9-1779327c2864"
      },
      "execution_count": null,
      "outputs": [
        {
          "output_type": "execute_result",
          "data": {
            "text/plain": [
              "Agra              2\n",
              "Ahemadabad        3\n",
              "Ahemdabad         4\n",
              "Ahmedabad        70\n",
              "Amritsar          1\n",
              "                 ..\n",
              "Udaipur           5\n",
              "Udupi             3\n",
              "Uttar Pradesh     1\n",
              "Vadodara         18\n",
              "Varanasi          1\n",
              "Name: City  Location, Length: 85, dtype: int64"
            ]
          },
          "metadata": {},
          "execution_count": 56
        }
      ]
    },
    {
      "cell_type": "code",
      "source": [
        "top_10_cities1 = city_startup_counts1.sort_values(ascending=False)[:10]\n",
        "top_10_cities1"
      ],
      "metadata": {
        "colab": {
          "base_uri": "https://localhost:8080/"
        },
        "id": "UnFRAgjQiVF6",
        "outputId": "17957e53-3ee8-49a6-c6bb-798a8bfd2968"
      },
      "execution_count": null,
      "outputs": [
        {
          "output_type": "execute_result",
          "data": {
            "text/plain": [
              "Bangalore    1799\n",
              "Mumbai       1156\n",
              "New Delhi     862\n",
              "Gurgaon       551\n",
              "Hyderabad     189\n",
              "Pune          187\n",
              "Noida         179\n",
              "Chennai       166\n",
              "Gurugram      127\n",
              "Ahmedabad      70\n",
              "Name: City  Location, dtype: int64"
            ]
          },
          "metadata": {},
          "execution_count": 57
        }
      ]
    },
    {
      "cell_type": "code",
      "source": [
        "# Plotting a pie chart\n",
        "plt.figure(figsize=(10, 6))\n",
        "plt.pie(top_10_cities1, labels=top_10_cities1.index, autopct='%1.1f%%')\n",
        "plt.title('Top 10 Indian Cities with Most Startups')\n",
        "plt.axis('equal')\n",
        "plt.show()\n",
        "\n",
        "# Print city names and startup counts\n",
        "for city, startups in top_10_cities1.items():\n",
        "    print(f\"{city}: {startups}\")"
      ],
      "metadata": {
        "colab": {
          "base_uri": "https://localhost:8080/",
          "height": 699
        },
        "id": "IzEpWZk9ibLl",
        "outputId": "898c2840-18f7-4b71-8dc5-c6d8e03c9dcf"
      },
      "execution_count": null,
      "outputs": [
        {
          "output_type": "display_data",
          "data": {
            "text/plain": [
              "<Figure size 1000x600 with 1 Axes>"
            ],
            "image/png": "[encoded data removed]"
          },
          "metadata": {}
        },
        {
          "output_type": "stream",
          "name": "stdout",
          "text": [
            "Bangalore: 1799\n",
            "Mumbai: 1156\n",
            "New Delhi: 862\n",
            "Gurgaon: 551\n",
            "Hyderabad: 189\n",
            "Pune: 187\n",
            "Noida: 179\n",
            "Chennai: 166\n",
            "Gurugram: 127\n",
            "Ahmedabad: 70\n"
          ]
        }
      ]
    },
    {
      "cell_type": "markdown",
      "source": [
        "From above pie chart we can see that maximum number of startups are Banglore based followed by Mumbai and New Delhi."
      ],
      "metadata": {
        "id": "ssu9WWs2WJHm"
      }
    },
    {
      "cell_type": "markdown",
      "source": [
        "# Q\n",
        "Find out if cities play any role in receiving funding.\n",
        "Find top 10 Indian cities with most amount of fundings received. Find out percentage of funding each city\n",
        "has got (among top 10 Indian cities only).\n",
        "Print the city and percentage with 2 decimal place after rounding off."
      ],
      "metadata": {
        "id": "2AxkVwz9oA5d"
      }
    },
    {
      "cell_type": "code",
      "source": [
        "city_funding = df.groupby('City  Location')['Amount in USD'].sum()\n",
        "\n",
        "# Find the top 10 cities with the most funding\n",
        "top_10_cities = city_funding.nlargest(10)\n",
        "\n",
        "# Calculate the total funding among top 10 cities\n",
        "total_funding_top_10 = top_10_cities.sum()\n",
        "\n",
        "# Calculate the percentage of funding for each city\n",
        "city_percentage = (top_10_cities / total_funding_top_10) * 100\n",
        "\n",
        "# Print city and percentage with 2 decimal places\n",
        "for city, percentage in city_percentage.items():\n",
        "    print(f\"{city}: {percentage:.2f}%\")"
      ],
      "metadata": {
        "colab": {
          "base_uri": "https://localhost:8080/"
        },
        "id": "ixXecJE4m-h0",
        "outputId": "a034d226-d74e-4ad9-cf50-066a579b074e"
      },
      "execution_count": null,
      "outputs": [
        {
          "output_type": "stream",
          "name": "stdout",
          "text": [
            "Bangalore: 50.68%\n",
            "Mumbai: 14.16%\n",
            "New Delhi: 10.80%\n",
            "Gurgaon: 10.46%\n",
            "India: 3.95%\n",
            "Pune: 2.34%\n",
            "Chennai: 2.19%\n",
            "Noida: 2.11%\n",
            "Gurugram: 2.06%\n",
            "Kormangala: 1.25%\n"
          ]
        }
      ]
    },
    {
      "cell_type": "markdown",
      "source": [
        "Banglore based startups have recieved maximum fundings which is 50% of the total fundings recieved to the startups. From this we can say that cities play important role to recieve fundings."
      ],
      "metadata": {
        "id": "-WO5TAIoWpuP"
      }
    },
    {
      "cell_type": "markdown",
      "source": [
        "#Q\n",
        "There are 4 different type of investments. Find out percentage of amount funded for each investment\n",
        "type.\n",
        "Plot a pie chart to visualise.\n",
        "Print the investment type and percentage of amount funded with 2 decimal places after rounding off."
      ],
      "metadata": {
        "id": "EA8acLdBoXt9"
      }
    },
    {
      "cell_type": "code",
      "source": [
        "df['InvestmentnType'] = df['InvestmentnType'].str.replace('PrivateEquity', 'Private Equity')"
      ],
      "metadata": {
        "id": "2l2qcGGoIBtO"
      },
      "execution_count": null,
      "outputs": []
    },
    {
      "cell_type": "code",
      "source": [
        "df['InvestmentnType'] = df['InvestmentnType'].str.replace('Private Equity Round', 'Private Equity')"
      ],
      "metadata": {
        "id": "6nOkqPjmIQlk"
      },
      "execution_count": null,
      "outputs": []
    },
    {
      "cell_type": "code",
      "source": [
        "df['InvestmentnType'] = df['InvestmentnType'].str.replace('Seed Funding Funding', 'Seed Funding')"
      ],
      "metadata": {
        "id": "ZEy22ix2IYao"
      },
      "execution_count": null,
      "outputs": []
    },
    {
      "cell_type": "code",
      "source": [
        "df['InvestmentnType'] = df['InvestmentnType'].str.replace('Seed Funding Round', 'Seed Funding')"
      ],
      "metadata": {
        "id": "YZ13J00GIsfd"
      },
      "execution_count": null,
      "outputs": []
    },
    {
      "cell_type": "code",
      "source": [
        "df['InvestmentnType'] = df['InvestmentnType'].str.replace('Seed Funding ', 'Seed Funding')"
      ],
      "metadata": {
        "id": "aoGQHLX1IyVI"
      },
      "execution_count": null,
      "outputs": []
    },
    {
      "cell_type": "code",
      "source": [
        "df['InvestmentnType'] = df['InvestmentnType'].str.replace('Private Equity Equity', 'Private Equity')"
      ],
      "metadata": {
        "id": "L4B6d9ZdI8RS"
      },
      "execution_count": null,
      "outputs": []
    },
    {
      "cell_type": "code",
      "source": [
        "df['InvestmentnType'] = df['InvestmentnType'].str.replace('Private', 'Private Equity')"
      ],
      "metadata": {
        "id": "9xQ4T0EAJbN-"
      },
      "execution_count": null,
      "outputs": []
    },
    {
      "cell_type": "code",
      "source": [
        "df['InvestmentnType'] = df['InvestmentnType'].str.replace('Debt', 'Debt Funding')"
      ],
      "metadata": {
        "id": "M61ZT7JmJbFK"
      },
      "execution_count": null,
      "outputs": []
    },
    {
      "cell_type": "code",
      "source": [
        "df['InvestmentnType'] = df['InvestmentnType'].str.replace('Debt Funding Funding', 'Debt Funding')"
      ],
      "metadata": {
        "id": "JZCOxOFZJa8y"
      },
      "execution_count": null,
      "outputs": []
    },
    {
      "cell_type": "code",
      "source": [
        "df['InvestmentnType'] = df['InvestmentnType'].str.replace('Debt Funding-Funding', 'Debt Funding')"
      ],
      "metadata": {
        "id": "MR9mMt_fJaw3"
      },
      "execution_count": null,
      "outputs": []
    },
    {
      "cell_type": "code",
      "source": [
        "# Drop rows with NaN values in the 'Amount in USD' column\n",
        "df.dropna(subset=['Amount in USD'], inplace=True)\n",
        "\n",
        "# Group by investment type and sum up the funding amounts\n",
        "investment_funding = df.groupby('InvestmentnType')['Amount in USD'].sum()\n",
        "\n",
        "# Calculate the total funding across all investment types\n",
        "total_funding = investment_funding.sum()\n",
        "\n",
        "# Calculate the percentage of funding for each investment type\n",
        "investment_percentage = (investment_funding / total_funding) * 100\n",
        "\n",
        "\n",
        "# Print investment type and percentage with 2 decimal places\n",
        "for investment_type, percentage in investment_percentage.items():\n",
        "    print(f\"{investment_type}: {percentage:.2f}%\")"
      ],
      "metadata": {
        "id": "2fYYtbKQodOm",
        "colab": {
          "base_uri": "https://localhost:8080/"
        },
        "outputId": "edc71f6f-b040-4767-94e2-50ab3579943e"
      },
      "execution_count": null,
      "outputs": [
        {
          "output_type": "stream",
          "name": "stdout",
          "text": [
            "Angel: 0.00%\n",
            "Angel : 0.00%\n",
            "Angel Funding: 0.30%\n",
            "Angel Round: 0.00%\n",
            "Angle Funding: 0.14%\n",
            "Corporate Round: 0.05%\n",
            "Debt Funding: 0.32%\n",
            "Debt Funding and Preference capital: 0.01%\n",
            "Equity: 0.14%\n",
            "Equity Based Funding: 0.04%\n",
            "Funding Round: 1.38%\n",
            "Inhouse Funding: 0.00%\n",
            "Maiden Round: 0.01%\n",
            "Mezzanine: 0.00%\n",
            "Pre-Series A: 0.01%\n",
            "Pre-series A: 0.00%\n",
            "Private Equity: 0.02%\n",
            "Private Equity Equity: 77.08%\n",
            "Private Equity Funding: 0.02%\n",
            "Seed: 0.38%\n",
            "Seed : 0.21%\n",
            "Seed Funding: 1.24%\n",
            "Seed Round: 0.27%\n",
            "Series A: 0.47%\n",
            "Series B: 7.64%\n",
            "Series B (Extension): 0.04%\n",
            "Series C: 2.04%\n",
            "Series D: 6.48%\n",
            "Series E: 0.05%\n",
            "Series F: 0.15%\n",
            "Series G: 0.32%\n",
            "Series H: 0.62%\n",
            "Series J: 0.00%\n",
            "Single Venture: 0.39%\n",
            "Structured Debt Funding: 0.01%\n",
            "Term Loan: 0.01%\n",
            "Venture - Series Unknown: 0.00%\n",
            "Venture Round: 0.03%\n",
            "pre-Series A: 0.08%\n",
            "pre-series A: 0.01%\n"
          ]
        }
      ]
    },
    {
      "cell_type": "code",
      "source": [
        "all_investment_types = ['Private Equity', 'Seed Funding', 'Debt Funding', 'Crowd Funding']\n",
        "all_percentages = [77.13, 2.10, 0.32, 0.00]\n",
        "investment_data = list(zip(all_investment_types, all_percentages))\n",
        "\n",
        "# Sort the investment data based on percentage in descending order\n",
        "sorted_investment_data = sorted(investment_data, key=lambda x: x[1], reverse=True)\n",
        "\n",
        "# Print the sorted investment types and percentages\n",
        "print(\"Investment Types and Percentages:\")\n",
        "for investment_type, percentage in sorted_investment_data:\n",
        "    print(f\"{investment_type}: {percentage:.2f}%\")\n",
        "\n",
        "# Create a pie chart\n",
        "plt.figure(figsize=(10, 10))\n",
        "plt.pie(all_percentages, labels=all_investment_types, autopct='%.2f%%', startangle=140)\n",
        "plt.title('Distribution of Startup Investment Funding Types')\n",
        "plt.axis('equal')\n",
        "plt.legend()\n",
        "# Display the pie chart\n",
        "plt.show()"
      ],
      "metadata": {
        "colab": {
          "base_uri": "https://localhost:8080/",
          "height": 916
        },
        "id": "2LkWeWeHN4U_",
        "outputId": "3f287c27-6263-4baf-92d4-039fa0f91835"
      },
      "execution_count": null,
      "outputs": [
        {
          "output_type": "stream",
          "name": "stdout",
          "text": [
            "Investment Types and Percentages:\n",
            "Private Equity: 77.13%\n",
            "Seed Funding: 2.10%\n",
            "Debt Funding: 0.32%\n",
            "Crowd Funding: 0.00%\n"
          ]
        },
        {
          "output_type": "display_data",
          "data": {
            "text/plain": [
              "<Figure size 1000x1000 with 1 Axes>"
            ],
            "image/png": "[encoded data removed]"
          },
          "metadata": {}
        }
      ]
    },
    {
      "cell_type": "code",
      "source": [
        "df.info()"
      ],
      "metadata": {
        "colab": {
          "base_uri": "https://localhost:8080/"
        },
        "id": "Leaf3jz8P9X8",
        "outputId": "dc69b0f6-63b6-46f6-b41a-adc71a18d543"
      },
      "execution_count": null,
      "outputs": [
        {
          "output_type": "stream",
          "name": "stdout",
          "text": [
            "<class 'pandas.core.frame.DataFrame'>\n",
            "Int64Index: 3936 entries, 0 to 2872\n",
            "Data columns (total 10 columns):\n",
            " #   Column             Non-Null Count  Dtype         \n",
            "---  ------             --------------  -----         \n",
            " 0   Sr No              3936 non-null   object        \n",
            " 1   Date dd/mm/yyyy    3934 non-null   datetime64[ns]\n",
            " 2   Startup Name       3936 non-null   object        \n",
            " 3   Industry Vertical  3936 non-null   object        \n",
            " 4   SubVertical        3936 non-null   object        \n",
            " 5   City  Location     3936 non-null   object        \n",
            " 6   Investors Name     3936 non-null   object        \n",
            " 7   InvestmentnType    3936 non-null   object        \n",
            " 8   Amount in USD      3936 non-null   float64       \n",
            " 9   year               3930 non-null   float64       \n",
            "dtypes: datetime64[ns](1), float64(2), object(7)\n",
            "memory usage: 338.2+ KB\n"
          ]
        }
      ]
    },
    {
      "cell_type": "markdown",
      "source": [
        "Which type of companies got more easily funding. To answer this question, find -\n",
        "Top 5 industries and percentage of the total amount funded to that industry. (among top 5 only)\n",
        "Print the industry name and percentage of the amount funded with 2 decimal place after rounding off."
      ],
      "metadata": {
        "id": "8M9945y7SvgL"
      }
    },
    {
      "cell_type": "code",
      "source": [
        "df['Industry Vertical'] = df['Industry Vertical'].str.replace('E-Commerce', 'Ecommerce')"
      ],
      "metadata": {
        "id": "ICg7uU8kQuPD"
      },
      "execution_count": null,
      "outputs": []
    },
    {
      "cell_type": "code",
      "source": [
        "industry_total_funding = {}\n",
        "total_funding = sum(df['Amount in USD'])\n",
        "\n",
        "for industry, funding in zip(df['Industry Vertical'], df['Amount in USD']):\n",
        "    industry_total_funding[industry] = funding\n",
        "\n",
        "# Sort industries based on total funding in descending order\n",
        "sorted_industries = sorted(industry_total_funding.items(), key=lambda x: x[1], reverse=True)\n",
        "\n",
        "# Select the top 5 industries and calculate their percentages\n",
        "top_5_industries = sorted_industries[:5]\n",
        "top_5_percentages = [(industry, (funding / total_funding) * 100) for industry, funding in top_5_industries]\n",
        "\n",
        "# Print the top 5 industries and their percentages\n",
        "print(\"Top 5 Industries and Percentages:\")\n",
        "for industry, percentage in top_5_percentages:\n",
        "    print(f\"{industry}: {percentage:.2f}%\")"
      ],
      "metadata": {
        "colab": {
          "base_uri": "https://localhost:8080/"
        },
        "id": "S2gy_L54OSOC",
        "outputId": "b1645539-16c3-4f9d-bac8-db3d8d193517"
      },
      "execution_count": null,
      "outputs": [
        {
          "output_type": "stream",
          "name": "stdout",
          "text": [
            "Top 5 Industries and Percentages:\n",
            "Online Marketplace: 0.97%\n",
            "Ecommerce & M-Commerce platform: 0.94%\n",
            "Car Aggregator & Retail Mobile App: 0.69%\n",
            "Ecommerce Marketplace: 0.69%\n",
            "Cab Aggregator: 0.55%\n"
          ]
        }
      ]
    },
    {
      "cell_type": "markdown",
      "source": [
        "Find top 5 startups with most amount of total funding.\n",
        "Print the startup name in descending order with respect to amount of funding."
      ],
      "metadata": {
        "id": "7UCpk1CbROps"
      }
    },
    {
      "cell_type": "code",
      "source": [
        "# Create a dictionary to store total funding for each startup\n",
        "startup_total_funding = {}\n",
        "for name, funding in zip(df['Startup Name'], df['Amount in USD']):\n",
        "    startup_total_funding[name] = funding\n",
        "\n",
        "# Sort startups based on total funding in descending order\n",
        "sorted_startups = sorted(startup_total_funding.items(), key=lambda x: x[1], reverse=True)\n",
        "\n",
        "# Print the top 5 startups with most amount of funding\n",
        "print(\"Top 5 Startups by Total Funding:\")\n",
        "for startup, funding in sorted_startups[:5]:\n",
        "    print(f\"{startup}: ${funding:,}\")"
      ],
      "metadata": {
        "colab": {
          "base_uri": "https://localhost:8080/"
        },
        "id": "qy1hEShaROXN",
        "outputId": "9e6c377d-de40-4260-d535-a0c11cba821d"
      },
      "execution_count": null,
      "outputs": [
        {
          "output_type": "stream",
          "name": "stdout",
          "text": [
            "Top 5 Startups by Total Funding:\n",
            "Rapido bike taxi: $3,900,000,000.0\n",
            "Paytm: $680,000,000.0\n",
            "True north: $600,000,000.0\n",
            "Ola: $500,000,000.0\n",
            "Snapdeal: $500,000,000.0\n"
          ]
        }
      ]
    },
    {
      "cell_type": "markdown",
      "source": [
        "Find the top 5 startups who received the most number of funding rounds. That means, startups which got\n",
        "fundings maximum number of times.\n",
        "Print the startup name in descending order with respect to the number of funding round as integer value.\n"
      ],
      "metadata": {
        "id": "w_o22iagRcuz"
      }
    },
    {
      "cell_type": "code",
      "source": [
        "# Create a dictionary to store the number of investors for each startup\n",
        "startup_investor_count = {}\n",
        "for name, investors in zip(df['Startup Name'], df['InvestmentnType']):\n",
        "    startup_investor_count[name] = len(investors)\n",
        "\n",
        "# Sort startups based on the number of investors in descending order\n",
        "sorted_startups = sorted(startup_investor_count.items(), key=lambda x: x[1], reverse=True)\n",
        "\n",
        "# Print the top 5 startups with most number of investors\n",
        "print(\"Top 5 Startups by Number of Investors:\")\n",
        "for startup, investor_count in sorted_startups[:5]:\n",
        "    print(f\"{startup}: {investor_count} investors\")"
      ],
      "metadata": {
        "colab": {
          "base_uri": "https://localhost:8080/"
        },
        "id": "P3P2dLxNRcTb",
        "outputId": "9f22eb70-ad49-4474-a134-223742ec93a2"
      },
      "execution_count": null,
      "outputs": [
        {
          "output_type": "stream",
          "name": "stdout",
          "text": [
            "Top 5 Startups by Number of Investors:\n",
            "Saahas zero waste: 24 investors\n",
            "Rao iit academy: 23 investors\n",
            "Byju’s: 21 investors\n",
            "Shuttl: 21 investors\n",
            "Mamaearth: 21 investors\n"
          ]
        }
      ]
    }
  ]
}